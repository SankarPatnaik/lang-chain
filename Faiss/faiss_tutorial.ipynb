{
 "cells": [
  {
   "cell_type": "code",
   "execution_count": 34,
   "id": "c9493399",
   "metadata": {
    "scrolled": false
   },
   "outputs": [
    {
     "name": "stdout",
     "output_type": "stream",
     "text": [
      "Requirement already satisfied: faiss-cpu in c:\\users\\patna\\anaconda3\\lib\\site-packages (1.7.4)"
     ]
    },
    {
     "name": "stderr",
     "output_type": "stream",
     "text": [
      "WARNING: Error parsing dependencies of pyodbc: Invalid version: '4.0.0-unsupported'\n",
      "WARNING: Error parsing dependencies of pyzmq: Invalid version: 'cpython'\n",
      "\n",
      "[notice] A new release of pip is available: 24.1.2 -> 24.2\n",
      "[notice] To update, run: python.exe -m pip install --upgrade pip\n"
     ]
    },
    {
     "name": "stdout",
     "output_type": "stream",
     "text": [
      "\n",
      "Requirement already satisfied: sentence-transformers in c:\\users\\patna\\anaconda3\\lib\\site-packages (2.2.2)\n",
      "Requirement already satisfied: transformers<5.0.0,>=4.6.0 in c:\\users\\patna\\anaconda3\\lib\\site-packages (from sentence-transformers) (4.41.2)\n",
      "Requirement already satisfied: tqdm in c:\\users\\patna\\anaconda3\\lib\\site-packages (from sentence-transformers) (4.65.0)\n",
      "Requirement already satisfied: torch>=1.6.0 in c:\\users\\patna\\anaconda3\\lib\\site-packages (from sentence-transformers) (2.3.1)\n",
      "Requirement already satisfied: torchvision in c:\\users\\patna\\anaconda3\\lib\\site-packages (from sentence-transformers) (0.18.1)\n",
      "Requirement already satisfied: numpy in c:\\users\\patna\\anaconda3\\lib\\site-packages (from sentence-transformers) (1.19.5)\n",
      "Requirement already satisfied: scikit-learn in c:\\users\\patna\\anaconda3\\lib\\site-packages (from sentence-transformers) (0.23.2)\n",
      "Requirement already satisfied: scipy in c:\\users\\patna\\anaconda3\\lib\\site-packages (from sentence-transformers) (1.5.4)\n",
      "Requirement already satisfied: nltk in c:\\users\\patna\\anaconda3\\lib\\site-packages (from sentence-transformers) (3.6.1)\n",
      "Requirement already satisfied: sentencepiece in c:\\users\\patna\\anaconda3\\lib\\site-packages (from sentence-transformers) (0.2.0)\n",
      "Requirement already satisfied: huggingface-hub>=0.4.0 in c:\\users\\patna\\anaconda3\\lib\\site-packages (from sentence-transformers) (0.23.4)\n",
      "Requirement already satisfied: filelock in c:\\users\\patna\\anaconda3\\lib\\site-packages (from huggingface-hub>=0.4.0->sentence-transformers) (3.0.12)\n",
      "Requirement already satisfied: fsspec>=2023.5.0 in c:\\users\\patna\\anaconda3\\lib\\site-packages (from huggingface-hub>=0.4.0->sentence-transformers) (2024.6.0)\n",
      "Requirement already satisfied: packaging>=20.9 in c:\\users\\patna\\anaconda3\\lib\\site-packages (from huggingface-hub>=0.4.0->sentence-transformers) (24.1)\n",
      "Requirement already satisfied: pyyaml>=5.1 in c:\\users\\patna\\anaconda3\\lib\\site-packages (from huggingface-hub>=0.4.0->sentence-transformers) (6.0.1)\n",
      "Requirement already satisfied: requests in c:\\users\\patna\\anaconda3\\lib\\site-packages (from huggingface-hub>=0.4.0->sentence-transformers) (2.32.3)\n",
      "Requirement already satisfied: typing-extensions>=3.7.4.3 in c:\\users\\patna\\anaconda3\\lib\\site-packages (from huggingface-hub>=0.4.0->sentence-transformers) (4.12.2)\n",
      "Requirement already satisfied: sympy in c:\\users\\patna\\anaconda3\\lib\\site-packages (from torch>=1.6.0->sentence-transformers) (1.8)\n",
      "Requirement already satisfied: networkx in c:\\users\\patna\\anaconda3\\lib\\site-packages (from torch>=1.6.0->sentence-transformers) (2.5)\n",
      "Requirement already satisfied: jinja2 in c:\\users\\patna\\anaconda3\\lib\\site-packages (from torch>=1.6.0->sentence-transformers) (3.0.1)\n",
      "Requirement already satisfied: mkl<=2021.4.0,>=2021.1.1 in c:\\users\\patna\\anaconda3\\lib\\site-packages (from torch>=1.6.0->sentence-transformers) (2021.4.0)\n"
     ]
    },
    {
     "name": "stderr",
     "output_type": "stream",
     "text": [
      "WARNING: Error parsing dependencies of pyodbc: Invalid version: '4.0.0-unsupported'\n",
      "WARNING: Error parsing dependencies of pyzmq: Invalid version: 'cpython'\n",
      "\n",
      "[notice] A new release of pip is available: 24.1.2 -> 24.2\n",
      "[notice] To update, run: python.exe -m pip install --upgrade pip\n"
     ]
    },
    {
     "name": "stdout",
     "output_type": "stream",
     "text": [
      "Requirement already satisfied: colorama in c:\\users\\patna\\anaconda3\\lib\\site-packages (from tqdm->sentence-transformers) (0.4.4)\n",
      "Requirement already satisfied: regex!=2019.12.17 in c:\\users\\patna\\anaconda3\\lib\\site-packages (from transformers<5.0.0,>=4.6.0->sentence-transformers) (2024.5.15)\n",
      "Requirement already satisfied: tokenizers<0.20,>=0.19 in c:\\users\\patna\\anaconda3\\lib\\site-packages (from transformers<5.0.0,>=4.6.0->sentence-transformers) (0.19.1)\n",
      "Requirement already satisfied: safetensors>=0.4.1 in c:\\users\\patna\\anaconda3\\lib\\site-packages (from transformers<5.0.0,>=4.6.0->sentence-transformers) (0.4.3)\n",
      "Requirement already satisfied: click in c:\\users\\patna\\anaconda3\\lib\\site-packages (from nltk->sentence-transformers) (8.1.7)\n",
      "Requirement already satisfied: joblib in c:\\users\\patna\\anaconda3\\lib\\site-packages (from nltk->sentence-transformers) (1.0.1)\n",
      "Requirement already satisfied: threadpoolctl>=2.0.0 in c:\\users\\patna\\anaconda3\\lib\\site-packages (from scikit-learn->sentence-transformers) (2.1.0)\n",
      "Requirement already satisfied: pillow!=8.3.*,>=5.3.0 in c:\\users\\patna\\anaconda3\\lib\\site-packages (from torchvision->sentence-transformers) (8.2.0)\n",
      "Requirement already satisfied: intel-openmp==2021.* in c:\\users\\patna\\anaconda3\\lib\\site-packages (from mkl<=2021.4.0,>=2021.1.1->torch>=1.6.0->sentence-transformers) (2021.4.0)\n",
      "Requirement already satisfied: tbb==2021.* in c:\\users\\patna\\anaconda3\\lib\\site-packages (from mkl<=2021.4.0,>=2021.1.1->torch>=1.6.0->sentence-transformers) (2021.13.0)\n",
      "Requirement already satisfied: MarkupSafe>=2.0 in c:\\users\\patna\\anaconda3\\lib\\site-packages (from jinja2->torch>=1.6.0->sentence-transformers) (2.0.1)\n",
      "Requirement already satisfied: decorator>=4.3.0 in c:\\users\\patna\\anaconda3\\lib\\site-packages (from networkx->torch>=1.6.0->sentence-transformers) (5.0.6)\n",
      "Requirement already satisfied: charset-normalizer<4,>=2 in c:\\users\\patna\\anaconda3\\lib\\site-packages (from requests->huggingface-hub>=0.4.0->sentence-transformers) (3.3.2)\n",
      "Requirement already satisfied: idna<4,>=2.5 in c:\\users\\patna\\anaconda3\\lib\\site-packages (from requests->huggingface-hub>=0.4.0->sentence-transformers) (2.10)\n",
      "Requirement already satisfied: urllib3<3,>=1.21.1 in c:\\users\\patna\\anaconda3\\lib\\site-packages (from requests->huggingface-hub>=0.4.0->sentence-transformers) (1.26.4)\n",
      "Requirement already satisfied: certifi>=2017.4.17 in c:\\users\\patna\\anaconda3\\lib\\site-packages (from requests->huggingface-hub>=0.4.0->sentence-transformers) (2020.12.5)\n",
      "Requirement already satisfied: mpmath>=0.19 in c:\\users\\patna\\anaconda3\\lib\\site-packages (from sympy->torch>=1.6.0->sentence-transformers) (1.2.1)\n"
     ]
    }
   ],
   "source": [
    "#Install Packages\n",
    "!pip install faiss-cpu\n",
    "!pip install sentence-transformers"
   ]
  },
  {
   "cell_type": "code",
   "execution_count": 35,
   "id": "c49be142",
   "metadata": {},
   "outputs": [],
   "source": [
    "# import necessary libraries\n",
    "import pandas as pd\n",
    "pd.set_option('display.max_colwidth', 100)"
   ]
  },
  {
   "cell_type": "code",
   "execution_count": 36,
   "id": "f5a30989",
   "metadata": {},
   "outputs": [
    {
     "data": {
      "text/plain": [
       "(36, 2)"
      ]
     },
     "execution_count": 36,
     "metadata": {},
     "output_type": "execute_result"
    }
   ],
   "source": [
    "df = pd.read_csv(\"sample_text.csv\")\n",
    "df.shape"
   ]
  },
  {
   "cell_type": "code",
   "execution_count": 37,
   "id": "b72e2ecb",
   "metadata": {
    "scrolled": true
   },
   "outputs": [
    {
     "data": {
      "text/html": [
       "<div>\n",
       "<style scoped>\n",
       "    .dataframe tbody tr th:only-of-type {\n",
       "        vertical-align: middle;\n",
       "    }\n",
       "\n",
       "    .dataframe tbody tr th {\n",
       "        vertical-align: top;\n",
       "    }\n",
       "\n",
       "    .dataframe thead th {\n",
       "        text-align: right;\n",
       "    }\n",
       "</style>\n",
       "<table border=\"1\" class=\"dataframe\">\n",
       "  <thead>\n",
       "    <tr style=\"text-align: right;\">\n",
       "      <th></th>\n",
       "      <th>text</th>\n",
       "      <th>category</th>\n",
       "    </tr>\n",
       "  </thead>\n",
       "  <tbody>\n",
       "    <tr>\n",
       "      <th>0</th>\n",
       "      <td>Meditation and yoga can improve mental health</td>\n",
       "      <td>Health</td>\n",
       "    </tr>\n",
       "    <tr>\n",
       "      <th>1</th>\n",
       "      <td>Fruits, whole grains and vegetables helps control blood pressure</td>\n",
       "      <td>Health</td>\n",
       "    </tr>\n",
       "    <tr>\n",
       "      <th>2</th>\n",
       "      <td>These are the latest fashion trends for this week</td>\n",
       "      <td>Fashion</td>\n",
       "    </tr>\n",
       "    <tr>\n",
       "      <th>3</th>\n",
       "      <td>Vibrant color jeans for male are becoming a trend</td>\n",
       "      <td>Fashion</td>\n",
       "    </tr>\n",
       "    <tr>\n",
       "      <th>4</th>\n",
       "      <td>The concert starts at 7 PM tonight</td>\n",
       "      <td>Event</td>\n",
       "    </tr>\n",
       "    <tr>\n",
       "      <th>5</th>\n",
       "      <td>Navaratri dandiya program at Expo center in Mumbai this october</td>\n",
       "      <td>Event</td>\n",
       "    </tr>\n",
       "    <tr>\n",
       "      <th>6</th>\n",
       "      <td>Exciting vacation destinations for your next trip</td>\n",
       "      <td>Travel</td>\n",
       "    </tr>\n",
       "    <tr>\n",
       "      <th>7</th>\n",
       "      <td>Maldives and Srilanka are gaining popularity in terms of low budget vacation places</td>\n",
       "      <td>Travel</td>\n",
       "    </tr>\n",
       "    <tr>\n",
       "      <th>8</th>\n",
       "      <td>10 simple exercises to stay fit at home</td>\n",
       "      <td>Health</td>\n",
       "    </tr>\n",
       "    <tr>\n",
       "      <th>9</th>\n",
       "      <td>Organic foods that boost your immune system</td>\n",
       "      <td>Health</td>\n",
       "    </tr>\n",
       "    <tr>\n",
       "      <th>10</th>\n",
       "      <td>The rise of sustainable fashion: What's trending this season</td>\n",
       "      <td>Fashion</td>\n",
       "    </tr>\n",
       "    <tr>\n",
       "      <th>11</th>\n",
       "      <td>How to style your wardrobe for a casual weekend</td>\n",
       "      <td>Fashion</td>\n",
       "    </tr>\n",
       "    <tr>\n",
       "      <th>12</th>\n",
       "      <td>Book signing event by a bestselling author this weekend</td>\n",
       "      <td>Event</td>\n",
       "    </tr>\n",
       "    <tr>\n",
       "      <th>13</th>\n",
       "      <td>Art exhibition at the downtown gallery opens this Friday</td>\n",
       "      <td>Event</td>\n",
       "    </tr>\n",
       "    <tr>\n",
       "      <th>14</th>\n",
       "      <td>Top 10 destinations for a winter getaway</td>\n",
       "      <td>Travel</td>\n",
       "    </tr>\n",
       "    <tr>\n",
       "      <th>15</th>\n",
       "      <td>A guide to budget-friendly travel in Southeast Asia</td>\n",
       "      <td>Travel</td>\n",
       "    </tr>\n",
       "    <tr>\n",
       "      <th>16</th>\n",
       "      <td>Home remedies for common colds and flu</td>\n",
       "      <td>Health</td>\n",
       "    </tr>\n",
       "    <tr>\n",
       "      <th>17</th>\n",
       "      <td>Understanding the benefits of a balanced diet</td>\n",
       "      <td>Health</td>\n",
       "    </tr>\n",
       "    <tr>\n",
       "      <th>18</th>\n",
       "      <td>How meditation can reduce stress and anxiety</td>\n",
       "      <td>Health</td>\n",
       "    </tr>\n",
       "    <tr>\n",
       "      <th>19</th>\n",
       "      <td>The importance of regular physical activity in your daily routine</td>\n",
       "      <td>Health</td>\n",
       "    </tr>\n",
       "    <tr>\n",
       "      <th>20</th>\n",
       "      <td>The future of wearable technology in fashion</td>\n",
       "      <td>Fashion</td>\n",
       "    </tr>\n",
       "    <tr>\n",
       "      <th>21</th>\n",
       "      <td>How to choose the perfect outfit for a formal event</td>\n",
       "      <td>Fashion</td>\n",
       "    </tr>\n",
       "    <tr>\n",
       "      <th>22</th>\n",
       "      <td>The impact of social media on fashion trends</td>\n",
       "      <td>Fashion</td>\n",
       "    </tr>\n",
       "    <tr>\n",
       "      <th>23</th>\n",
       "      <td>A look at the latest runway collections for this season</td>\n",
       "      <td>Fashion</td>\n",
       "    </tr>\n",
       "    <tr>\n",
       "      <th>24</th>\n",
       "      <td>Jazz concert at the city park this Saturday</td>\n",
       "      <td>Event</td>\n",
       "    </tr>\n",
       "    <tr>\n",
       "      <th>25</th>\n",
       "      <td>Food festival featuring international cuisines next month</td>\n",
       "      <td>Event</td>\n",
       "    </tr>\n",
       "    <tr>\n",
       "      <th>26</th>\n",
       "      <td>Charity run for cancer awareness happening downtown</td>\n",
       "      <td>Event</td>\n",
       "    </tr>\n",
       "    <tr>\n",
       "      <th>27</th>\n",
       "      <td>Workshop on digital photography this weekend</td>\n",
       "      <td>Event</td>\n",
       "    </tr>\n",
       "    <tr>\n",
       "      <th>28</th>\n",
       "      <td>Exploring the best beaches in the Caribbean</td>\n",
       "      <td>Travel</td>\n",
       "    </tr>\n",
       "    <tr>\n",
       "      <th>29</th>\n",
       "      <td>Top 5 adventure travel destinations in South America</td>\n",
       "      <td>Travel</td>\n",
       "    </tr>\n",
       "    <tr>\n",
       "      <th>30</th>\n",
       "      <td>How to plan a budget-friendly European tour</td>\n",
       "      <td>Travel</td>\n",
       "    </tr>\n",
       "    <tr>\n",
       "      <th>31</th>\n",
       "      <td>Discovering the hidden gems of Japan</td>\n",
       "      <td>Travel</td>\n",
       "    </tr>\n",
       "    <tr>\n",
       "      <th>32</th>\n",
       "      <td>Yoga retreat in the mountains for a peaceful getaway</td>\n",
       "      <td>Travel</td>\n",
       "    </tr>\n",
       "    <tr>\n",
       "      <th>33</th>\n",
       "      <td>The latest fitness gadgets to enhance your workout</td>\n",
       "      <td>Health</td>\n",
       "    </tr>\n",
       "    <tr>\n",
       "      <th>34</th>\n",
       "      <td>Exploring the ethical side of fashion</td>\n",
       "      <td>Fashion</td>\n",
       "    </tr>\n",
       "    <tr>\n",
       "      <th>35</th>\n",
       "      <td>Free entry to the city museum on the first Monday of every month</td>\n",
       "      <td>Event</td>\n",
       "    </tr>\n",
       "  </tbody>\n",
       "</table>\n",
       "</div>"
      ],
      "text/plain": [
       "                                                                                   text  \\\n",
       "0                                         Meditation and yoga can improve mental health   \n",
       "1                      Fruits, whole grains and vegetables helps control blood pressure   \n",
       "2                                     These are the latest fashion trends for this week   \n",
       "3                                     Vibrant color jeans for male are becoming a trend   \n",
       "4                                                    The concert starts at 7 PM tonight   \n",
       "5                       Navaratri dandiya program at Expo center in Mumbai this october   \n",
       "6                                     Exciting vacation destinations for your next trip   \n",
       "7   Maldives and Srilanka are gaining popularity in terms of low budget vacation places   \n",
       "8                                               10 simple exercises to stay fit at home   \n",
       "9                                           Organic foods that boost your immune system   \n",
       "10                         The rise of sustainable fashion: What's trending this season   \n",
       "11                                      How to style your wardrobe for a casual weekend   \n",
       "12                              Book signing event by a bestselling author this weekend   \n",
       "13                             Art exhibition at the downtown gallery opens this Friday   \n",
       "14                                             Top 10 destinations for a winter getaway   \n",
       "15                                  A guide to budget-friendly travel in Southeast Asia   \n",
       "16                                               Home remedies for common colds and flu   \n",
       "17                                        Understanding the benefits of a balanced diet   \n",
       "18                                         How meditation can reduce stress and anxiety   \n",
       "19                    The importance of regular physical activity in your daily routine   \n",
       "20                                         The future of wearable technology in fashion   \n",
       "21                                  How to choose the perfect outfit for a formal event   \n",
       "22                                         The impact of social media on fashion trends   \n",
       "23                              A look at the latest runway collections for this season   \n",
       "24                                          Jazz concert at the city park this Saturday   \n",
       "25                            Food festival featuring international cuisines next month   \n",
       "26                                  Charity run for cancer awareness happening downtown   \n",
       "27                                         Workshop on digital photography this weekend   \n",
       "28                                          Exploring the best beaches in the Caribbean   \n",
       "29                                 Top 5 adventure travel destinations in South America   \n",
       "30                                          How to plan a budget-friendly European tour   \n",
       "31                                                 Discovering the hidden gems of Japan   \n",
       "32                                 Yoga retreat in the mountains for a peaceful getaway   \n",
       "33                                   The latest fitness gadgets to enhance your workout   \n",
       "34                                                Exploring the ethical side of fashion   \n",
       "35                     Free entry to the city museum on the first Monday of every month   \n",
       "\n",
       "   category  \n",
       "0    Health  \n",
       "1    Health  \n",
       "2   Fashion  \n",
       "3   Fashion  \n",
       "4     Event  \n",
       "5     Event  \n",
       "6    Travel  \n",
       "7    Travel  \n",
       "8    Health  \n",
       "9    Health  \n",
       "10  Fashion  \n",
       "11  Fashion  \n",
       "12    Event  \n",
       "13    Event  \n",
       "14   Travel  \n",
       "15   Travel  \n",
       "16   Health  \n",
       "17   Health  \n",
       "18   Health  \n",
       "19   Health  \n",
       "20  Fashion  \n",
       "21  Fashion  \n",
       "22  Fashion  \n",
       "23  Fashion  \n",
       "24    Event  \n",
       "25    Event  \n",
       "26    Event  \n",
       "27    Event  \n",
       "28   Travel  \n",
       "29   Travel  \n",
       "30   Travel  \n",
       "31   Travel  \n",
       "32   Travel  \n",
       "33   Health  \n",
       "34  Fashion  \n",
       "35    Event  "
      ]
     },
     "execution_count": 37,
     "metadata": {},
     "output_type": "execute_result"
    }
   ],
   "source": [
    "df"
   ]
  },
  {
   "cell_type": "markdown",
   "id": "2d935944",
   "metadata": {},
   "source": [
    "### Step 1 : Create source embeddings for the text column"
   ]
  },
  {
   "cell_type": "code",
   "execution_count": 38,
   "id": "cd04834b",
   "metadata": {},
   "outputs": [],
   "source": [
    "from sentence_transformers import SentenceTransformer"
   ]
  },
  {
   "cell_type": "code",
   "execution_count": 39,
   "id": "03ed4874",
   "metadata": {},
   "outputs": [],
   "source": [
    "encoder = SentenceTransformer(\"all-mpnet-base-v2\")\n",
    "vectors = encoder.encode(df.text)"
   ]
  },
  {
   "cell_type": "code",
   "execution_count": 40,
   "id": "b8b8c1ce",
   "metadata": {},
   "outputs": [
    {
     "data": {
      "text/plain": [
       "(36, 768)"
      ]
     },
     "execution_count": 40,
     "metadata": {},
     "output_type": "execute_result"
    }
   ],
   "source": [
    "vectors.shape"
   ]
  },
  {
   "cell_type": "code",
   "execution_count": 41,
   "id": "8e5c7da8",
   "metadata": {},
   "outputs": [
    {
     "data": {
      "text/plain": [
       "768"
      ]
     },
     "execution_count": 41,
     "metadata": {},
     "output_type": "execute_result"
    }
   ],
   "source": [
    "dim = vectors.shape[1]\n",
    "dim"
   ]
  },
  {
   "cell_type": "markdown",
   "id": "149e6b32",
   "metadata": {},
   "source": [
    "### Step 2 : Build a FAISS Index for vectors"
   ]
  },
  {
   "cell_type": "code",
   "execution_count": 42,
   "id": "1033b6bd",
   "metadata": {},
   "outputs": [],
   "source": [
    "import faiss\n",
    "\n",
    "index = faiss.IndexFlatL2(dim)"
   ]
  },
  {
   "cell_type": "markdown",
   "id": "76ad509d",
   "metadata": {},
   "source": [
    "### Step 3 : Normalize the source vectors (as we are using L2 distance to measure similarity) and add to the index"
   ]
  },
  {
   "cell_type": "code",
   "execution_count": 43,
   "id": "90b527fc",
   "metadata": {},
   "outputs": [],
   "source": [
    "index.add(vectors)"
   ]
  },
  {
   "cell_type": "code",
   "execution_count": 44,
   "id": "7ac0b8ef",
   "metadata": {},
   "outputs": [
    {
     "data": {
      "text/plain": [
       "<faiss.swigfaiss.IndexFlatL2; proxy of <Swig Object of type 'faiss::IndexFlatL2 *' at 0x00000196F34FB750> >"
      ]
     },
     "execution_count": 44,
     "metadata": {},
     "output_type": "execute_result"
    }
   ],
   "source": [
    "index"
   ]
  },
  {
   "cell_type": "markdown",
   "id": "6c42234c",
   "metadata": {},
   "source": [
    "### Step 4 : Encode search text using same encorder and normalize the output vector"
   ]
  },
  {
   "cell_type": "code",
   "execution_count": 46,
   "id": "018faf33",
   "metadata": {},
   "outputs": [
    {
     "data": {
      "text/plain": [
       "(768,)"
      ]
     },
     "execution_count": 46,
     "metadata": {},
     "output_type": "execute_result"
    }
   ],
   "source": [
    "search_query = \"I want to buy home made medicine\"\n",
    "#search_query = \"looking for places to visit during the holidays\"\n",
    "# search_query = \"An apple a day keeps the doctor away\"\n",
    "new_vec = encoder.encode(search_query)\n",
    "new_vec.shape"
   ]
  },
  {
   "cell_type": "code",
   "execution_count": 47,
   "id": "af05bce3",
   "metadata": {},
   "outputs": [
    {
     "data": {
      "text/plain": [
       "(1, 768)"
      ]
     },
     "execution_count": 47,
     "metadata": {},
     "output_type": "execute_result"
    }
   ],
   "source": [
    "import numpy as np\n",
    "svec = np.array(new_vec).reshape(1,-1)\n",
    "svec.shape"
   ]
  },
  {
   "cell_type": "code",
   "execution_count": 49,
   "id": "84275adf",
   "metadata": {},
   "outputs": [],
   "source": [
    "faiss.normalize_L2(svec)\n",
    "#http://localhost:8888/notebooks/faiss_tutorial.ipynb#Step-5:-Search-for-similar-vector-in-the-FAISS-index-created"
   ]
  },
  {
   "cell_type": "markdown",
   "id": "90c0cdd8",
   "metadata": {},
   "source": [
    "### Step 5: Search for similar vector in the FAISS index created"
   ]
  },
  {
   "cell_type": "code",
   "execution_count": 50,
   "id": "3d5a0e69",
   "metadata": {},
   "outputs": [
    {
     "data": {
      "text/plain": [
       "array([[1.2806205, 1.4241502]], dtype=float32)"
      ]
     },
     "execution_count": 50,
     "metadata": {},
     "output_type": "execute_result"
    }
   ],
   "source": [
    "distances, I = index.search(svec, k=2)\n",
    "distances"
   ]
  },
  {
   "cell_type": "code",
   "execution_count": 51,
   "id": "7ef978ca",
   "metadata": {},
   "outputs": [
    {
     "data": {
      "text/plain": [
       "array([[16,  9]], dtype=int64)"
      ]
     },
     "execution_count": 51,
     "metadata": {},
     "output_type": "execute_result"
    }
   ],
   "source": [
    "I"
   ]
  },
  {
   "cell_type": "code",
   "execution_count": 52,
   "id": "e2fceefd",
   "metadata": {},
   "outputs": [
    {
     "data": {
      "text/plain": [
       "[[16, 9]]"
      ]
     },
     "execution_count": 52,
     "metadata": {},
     "output_type": "execute_result"
    }
   ],
   "source": [
    "I.tolist()"
   ]
  },
  {
   "cell_type": "code",
   "execution_count": 53,
   "id": "68f88083",
   "metadata": {},
   "outputs": [
    {
     "data": {
      "text/plain": [
       "[16, 9]"
      ]
     },
     "execution_count": 53,
     "metadata": {},
     "output_type": "execute_result"
    }
   ],
   "source": [
    "row_indices = I.tolist()[0]\n",
    "row_indices"
   ]
  },
  {
   "cell_type": "code",
   "execution_count": 54,
   "id": "d856895d",
   "metadata": {
    "scrolled": true
   },
   "outputs": [
    {
     "data": {
      "text/html": [
       "<div>\n",
       "<style scoped>\n",
       "    .dataframe tbody tr th:only-of-type {\n",
       "        vertical-align: middle;\n",
       "    }\n",
       "\n",
       "    .dataframe tbody tr th {\n",
       "        vertical-align: top;\n",
       "    }\n",
       "\n",
       "    .dataframe thead th {\n",
       "        text-align: right;\n",
       "    }\n",
       "</style>\n",
       "<table border=\"1\" class=\"dataframe\">\n",
       "  <thead>\n",
       "    <tr style=\"text-align: right;\">\n",
       "      <th></th>\n",
       "      <th>text</th>\n",
       "      <th>category</th>\n",
       "    </tr>\n",
       "  </thead>\n",
       "  <tbody>\n",
       "    <tr>\n",
       "      <th>16</th>\n",
       "      <td>Home remedies for common colds and flu</td>\n",
       "      <td>Health</td>\n",
       "    </tr>\n",
       "    <tr>\n",
       "      <th>9</th>\n",
       "      <td>Organic foods that boost your immune system</td>\n",
       "      <td>Health</td>\n",
       "    </tr>\n",
       "  </tbody>\n",
       "</table>\n",
       "</div>"
      ],
      "text/plain": [
       "                                           text category\n",
       "16       Home remedies for common colds and flu   Health\n",
       "9   Organic foods that boost your immune system   Health"
      ]
     },
     "execution_count": 54,
     "metadata": {},
     "output_type": "execute_result"
    }
   ],
   "source": [
    "df.loc[row_indices]"
   ]
  },
  {
   "cell_type": "code",
   "execution_count": 55,
   "id": "b65050a9",
   "metadata": {},
   "outputs": [
    {
     "data": {
      "text/plain": [
       "'I want to buy home made medicine'"
      ]
     },
     "execution_count": 55,
     "metadata": {},
     "output_type": "execute_result"
    }
   ],
   "source": [
    "search_query"
   ]
  },
  {
   "cell_type": "markdown",
   "id": "e066c78d",
   "metadata": {},
   "source": [
    "You can see that the two results from the dataframe are similar to a search_query"
   ]
  },
  {
   "cell_type": "code",
   "execution_count": null,
   "id": "b84b3d9c",
   "metadata": {},
   "outputs": [],
   "source": []
  }
 ],
 "metadata": {
  "kernelspec": {
   "display_name": "Python 3",
   "language": "python",
   "name": "python3"
  },
  "language_info": {
   "codemirror_mode": {
    "name": "ipython",
    "version": 3
   },
   "file_extension": ".py",
   "mimetype": "text/x-python",
   "name": "python",
   "nbconvert_exporter": "python",
   "pygments_lexer": "ipython3",
   "version": "3.8.8"
  }
 },
 "nbformat": 4,
 "nbformat_minor": 5
}
