{
 "cells": [
  {
   "cell_type": "markdown",
   "id": "ae222ed8",
   "metadata": {},
   "source": [
    "## Document Loaders In LangChain"
   ]
  },
  {
   "cell_type": "markdown",
   "id": "e65dada0",
   "metadata": {},
   "source": [
    "#### TextLoader"
   ]
  },
  {
   "cell_type": "code",
   "execution_count": 22,
   "id": "470ed0a2",
   "metadata": {},
   "outputs": [
    {
     "data": {
      "text/plain": [
       "[Document(metadata={'source': 'nvda_news_1.txt'}, page_content=\"The stock of NVIDIA Corp (NASDAQ:NVDA) experienced a daily loss of -3.56% and a 3-month gain of 32.35%. With an Earnings Per Share (EPS) (EPS) of $1.92, the question arises: is the stock significantly overvalued? This article aims to provide a detailed valuation analysis of NVIDIA, offering insights into its financial strength, profitability, growth, and more. We invite you to delve into this comprehensive analysis.\\n\\nCompany Overview\\nWarning! GuruFocus has detected 10 Warning Signs with NVDA. Click here to check it out.\\n\\nNVDA 30-Year Financial Data\\n\\nThe intrinsic value of NVDA\\n\\n\\nNVIDIA Corp (NASDAQ:NVDA) is a leading designer of discrete graphics processing units that enhance the experience on computing platforms. The firm's chips are widely used in various end markets, including PC gaming and data centers. In recent years, NVIDIA has broadened its focus from traditional PC graphics applications such as gaming to more complex and favorable opportunities, including artificial intelligence and autonomous driving, leveraging the high-performance capabilities of its products.\\n\\nCurrently, NVIDIA's stock price stands at $418.01, significantly higher than the GF Value of $310.28, indicating the stock might be overvalued. With a market cap of $1 trillion, the valuation seems steep. The following analysis aims to delve deeper into the company's value.\\n\\nIs NVIDIA's Stock Significantly Overvalued? A Comprehensive Valuation Analysis\\nIs NVIDIA's Stock Significantly Overvalued? A Comprehensive Valuation Analysis\\nUnderstanding the GF Value\\nThe GF Value is a unique measure of the intrinsic value of a stock, calculated based on historical trading multiples, a GuruFocus adjustment factor, and future business performance estimates. If the stock price is significantly above the GF Value Line, it is overvalued, and its future return is likely to be poor. Conversely, if it is significantly below the GF Value Line, its future return will likely be higher.\\n\\nAccording to GuruFocus Value calculation, NVIDIA (NASDAQ:NVDA) appears to be significantly overvalued. The stock's current price of $418.01 per share and the market cap of $1 trillion further strengthen this assumption.\\n\\nGiven that NVIDIA is significantly overvalued, the long-term return of its stock is likely to be much lower than its future business growth.\\n\\nIs NVIDIA's Stock Significantly Overvalued? A Comprehensive Valuation Analysis\\nIs NVIDIA's Stock Significantly Overvalued? A Comprehensive Valuation Analysis\\nLink: These companies may deliver higher future returns at reduced risk.\\n\\nFinancial Strength of NVIDIA\\nExamining the financial strength of a company is crucial before investing in its stock. Companies with poor financial strength pose a higher risk of permanent loss. NVIDIA's cash-to-debt ratio of 1.27 is worse than 58.04% of companies in the Semiconductors industry. However, NVIDIA's overall financial strength is 8 out of 10, indicating a strong financial position.\\n\\nIs NVIDIA's Stock Significantly Overvalued? A Comprehensive Valuation Analysis\\nIs NVIDIA's Stock Significantly Overvalued? A Comprehensive Valuation Analysis\\nProfitability and Growth\\nConsistent profitability over the long term reduces the risk for investors. NVIDIA, with its profitability ranking of 10 out of 10, has been profitable for the past 10 years. The company's operating margin of 17.37% ranks better than 76.5% of companies in the Semiconductors industry.\\n\\nHowever, growth is a crucial factor in a company's valuation. NVIDIA's growth ranks worse than 52.99% of companies in the Semiconductors industry, with its 3-year average revenue growth rate better than 87.88% of companies in the industry.\\n\\nROIC vs WACC\\nComparing a company's return on invested capital (ROIC) to its weighted average cost of capital (WACC) is an effective way to evaluate its profitability. Over the past 12 months, NVIDIA's ROIC was 20.32 while its WACC was 16.74, suggesting that the company is creating value for its shareholders.\\n\\nIs NVIDIA's Stock Significantly Overvalued? A Comprehensive Valuation Analysis\\nIs NVIDIA's Stock Significantly Overvalued? A Comprehensive Valuation Analysis\\nConclusion\\nIn conclusion, NVIDIA (NASDAQ:NVDA) appears to be significantly overvalued. Despite its strong financial condition and profitability, its growth ranks lower than 52.99% of companies in the Semiconductors industry. To learn more about NVIDIA stock, you can check out its 30-Year Financials here.\\n\\nTo find out the high quality companies that may deliver above-average returns, please check out GuruFocus High Quality Low Capex Screener.\\n\\nThis article first appeared on GuruFocus.\")]"
      ]
     },
     "execution_count": 22,
     "metadata": {},
     "output_type": "execute_result"
    }
   ],
   "source": [
    "from langchain.document_loaders import TextLoader\n",
    "\n",
    "loader = TextLoader(\"nvda_news_1.txt\")\n",
    "documents = loader.load()\n",
    "documents"
   ]
  },
  {
   "cell_type": "code",
   "execution_count": 4,
   "id": "ca5844b4",
   "metadata": {},
   "outputs": [
    {
     "data": {
      "text/plain": [
       "langchain_community.document_loaders.text.TextLoader"
      ]
     },
     "execution_count": 4,
     "metadata": {},
     "output_type": "execute_result"
    }
   ],
   "source": [
    "type(loader)"
   ]
  },
  {
   "cell_type": "code",
   "execution_count": 5,
   "id": "b26cf5a0-9d0a-437e-a72f-946557726aaa",
   "metadata": {},
   "outputs": [
    {
     "data": {
      "text/plain": [
       "[Document(metadata={'source': 'genai_future.txt'}, page_content='The Future of AI: How Artificial Intelligence Will Change the World\\nAI is constantly changing our world. Here are just a few ways AI will influence our lives.\\n\\nMike Thomas\\nWritten by Mike Thomas\\nImage: Shutterstock\\nImage: Shutterstock\\nUPDATED BY\\nMatthew Urwin | Mar 13, 2024\\nREVIEWED BY\\nSadrach Pierre\\nInnovations in the field of artificial intelligence continue to shape the future of humanity across nearly every industry. AI is already the main driver of emerging technologies like big data, robotics and IoT, and generative AI has further expanded the possibilities and popularity of AI. \\n\\nAccording to a 2023 IBM survey, 42 percent of enterprise-scale businesses integrated AI into their operations, and 40 percent are considering AI for their organizations. In addition, 38 percent of organizations have implemented generative AI into their workflows while 42 percent are considering doing so.\\n\\nWith so many changes coming at such a rapid pace, here’s what shifts in AI could mean for various industries and society at large.\\n\\nMore on the Future of AI\\nCan AI Make Art More Human?\\n\\n \\n\\nThe Evolution of AI\\nAI has come a long way since 1951, when the first documented success of an AI computer program was written by Christopher Strachey, whose checkers program completed a whole game on the Ferranti Mark I computer at the University of Manchester. Thanks to developments in machine learning and deep learning, IBM’s Deep Blue defeated chess grandmaster Garry Kasparov in 1997, and the company’s IBM Watson won Jeopardy! in 2011.  \\n\\nSince then, generative AI has spearheaded the latest chapter in AI’s evolution, with OpenAI releasing its first GPT models in 2018. This has culminated in OpenAI developing its GPT-4 model and ChatGPT, leading to a proliferation of AI generators that can process queries to produce relevant text, audio, images and other types of content.   \\n\\nAI has also been used to help sequence RNA for vaccines and model human speech, technologies that rely on model- and algorithm-based machine learning and increasingly focus on perception, reasoning and generalization. \\n\\n \\n\\nHow AI Will Impact the Future\\nImproved Business Automation \\nAbout 55 percent of organizations have adopted AI to varying degrees, suggesting increased automation for many businesses in the near future. With the rise of chatbots and digital assistants, companies can rely on AI to handle simple conversations with customers and answer basic queries from employees.\\n\\nAI’s ability to analyze massive amounts of data and convert its findings into convenient visual formats can also accelerate the decision-making process. Company leaders don’t have to spend time parsing through the data themselves, instead using instant insights to make informed decisions.\\n\\n“If [developers] understand what the technology is capable of and they understand the domain very well, they start to make connections and say, ‘Maybe this is an AI problem, maybe that’s an AI problem,’” said Mike Mendelson, a learner experience designer for NVIDIA. “That’s more often the case than, ‘I have a specific problem I want to solve.’”\\n\\nMore on AI\\n75 Artificial Intelligence (AI) Companies to Know\\n\\n \\n\\nJob Disruption\\nBusiness automation has naturally led to fears over job losses. In fact, employees believe almost one-third of their tasks could be performed by AI. Although AI has made gains in the workplace, it’s had an unequal impact on different industries and professions. For example, manual jobs like secretaries are at risk of being automated, but the demand for other jobs like machine learning specialists and information security analysts has risen.\\n\\nWorkers in more skilled or creative positions are more likely to have their jobs augmented by AI, rather than be replaced. Whether forcing employees to learn new tools or taking over their roles, AI is set to spur upskilling efforts at both the individual and company level.     \\n\\n“One of the absolute prerequisites for AI to be successful in many [areas] is that we invest tremendously in education to retrain people for new jobs,” said Klara Nahrstedt, a computer science professor at the University of Illinois at Urbana–Champaign and director of the school’s Coordinated Science Laboratory.\\n\\n \\n\\nData Privacy Issues\\nCompanies require large volumes of data to train the models that power generative AI tools, and this process has come under intense scrutiny. Concerns over companies collecting consumers’ personal data have led the FTC to open an investigation into whether OpenAI has negatively impacted consumers through its data collection methods after the company potentially violated European data protection laws. \\n\\nIn response, the Biden-Harris administration developed an AI Bill of Rights that lists data privacy as one of its core principles. Although this legislation doesn’t carry much legal weight, it reflects the growing push to prioritize data privacy and compel AI companies to be more transparent and cautious about how they compile training data.      \\n\\n \\n\\nIncreased Regulation\\nAI could shift the perspective on certain legal questions, depending on how generative AI lawsuits unfold in 2024. For example, the issue of intellectual property has come to the forefront in light of copyright lawsuits filed against OpenAI by writers, musicians and companies like The New York Times. These lawsuits affect how the U.S. legal system interprets what is private and public property, and a loss could spell major setbacks for OpenAI and its competitors. \\n\\nEthical issues that have surfaced in connection to generative AI have placed more pressure on the U.S. government to take a stronger stance. The Biden-Harris administration has maintained its moderate position with its latest executive order, creating rough guidelines around data privacy, civil liberties, responsible AI and other aspects of AI. However, the government could lean toward stricter regulations, depending on changes in the political climate.  \\n\\n \\n\\nClimate Change Concerns\\nOn a far grander scale, AI is poised to have a major effect on sustainability, climate change and environmental issues. Optimists can view AI as a way to make supply chains more efficient, carrying out predictive maintenance and other procedures to reduce carbon emissions. \\n\\nAt the same time, AI could be seen as a key culprit in climate change. The energy and resources required to create and maintain AI models could raise carbon emissions by as much as 80 percent, dealing a devastating blow to any sustainability efforts within tech. Even if AI is applied to climate-conscious technology, the costs of building and training models could leave society in a worse environmental situation than before.   \\n\\n \\n\\nWhat Industries Will AI Impact the Most? \\nThere’s virtually no major industry that modern AI hasn’t already affected. Here are a few of the industries undergoing the greatest changes as a result of AI.\\n \\n\\nAI in Manufacturing\\nManufacturing has been benefiting from AI for years. With AI-enabled robotic arms and other manufacturing bots dating back to the 1960s and 1970s, the industry has adapted well to the powers of AI. These industrial robots typically work alongside humans to perform a limited range of tasks like assembly and stacking, and predictive analysis sensors keep equipment running smoothly. \\n\\n \\n\\nAI in Healthcare\\nIt may seem unlikely, but AI healthcare is already changing the way humans interact with medical providers. Thanks to its big data analysis capabilities, AI helps identify diseases more quickly and accurately, speed up and streamline drug discovery and even monitor patients through virtual nursing assistants. \\n\\n \\n\\nAI in Finance\\nBanks, insurers and financial institutions leverage AI for a range of applications like detecting fraud, conducting audits and evaluating customers for loans. Traders have also used machine learning’s ability to assess millions of data points at once, so they can quickly gauge risk and make smart investing decisions. \\n\\n \\n\\nAI in Education\\nAI in education will change the way humans of all ages learn. AI’s use of machine learning, natural language processing and facial recognition help digitize textbooks, detect plagiarism and gauge the emotions of students to help determine who’s struggling or bored. Both presently and in the future, AI tailors the experience of learning to student’s individual needs.\\n\\n \\n\\nAI in Media\\nJournalism is harnessing AI too, and will continue to benefit from it. One example can be seen in The Associated Press’ use of Automated Insights, which produces thousands of earning reports stories per year. But as generative AI writing tools, such as ChatGPT, enter the market, questions about their use in journalism abound.\\n\\n \\n\\nAI in Customer Service\\nMost people dread getting a robocall, but AI in customer service can provide the industry with data-driven tools that bring meaningful insights to both the customer and the provider. AI tools powering the customer service industry come in the form of chatbots and virtual assistants.\\n\\n \\n\\nAI in Transportation\\nTransportation is one industry that is certainly teed up to be drastically changed by AI. Self-driving cars and AI travel planners are just a couple of facets of how we get from point A to point B that will be influenced by AI. Even though autonomous vehicles are far from perfect, they will one day ferry us from place to place.\\n\\n \\n\\n\\nSasha Luccioni discusses the real reasons why AI is dangerous. | Video: TED\\nRisks and Dangers of AI\\nDespite reshaping numerous industries in positive ways, AI still has flaws that leave room for concern. Here are a few potential risks of artificial intelligence.\\n \\n\\nJob Losses \\nBetween 2023 and 2028, 44 percent of workers’ skills will be disrupted. Not all workers will be affected equally — women are more likely than men to be exposed to AI in their jobs. Combine this with the fact that there is a gaping AI skills gap between men and women, and women seem much more susceptible to losing their jobs. If companies don’t have steps in place to upskill their workforces, the proliferation of AI could result in higher unemployment and decreased opportunities for those of marginalized backgrounds to break into tech.\\n\\n \\n\\nHuman Biases \\nThe reputation of AI has been tainted with a habit of reflecting the biases of the people who train the algorithmic models. For example, facial recognition technology has been known to favor lighter-skinned individuals, discriminating against people of color with darker complexions. If researchers aren’t careful in rooting out these biases early on, AI tools could reinforce these biases in the minds of users and perpetuate social inequalities.\\n\\n \\n\\nDeepfakes and Misinformation\\nThe spread of deepfakes threatens to blur the lines between fiction and reality, leading the general public to question what’s real and what isn’t. And if people are unable to identify deepfakes, the impact of misinformation could be dangerous to individuals and entire countries alike. Deepfakes have been used to promote political propaganda, commit financial fraud and place students in compromising positions, among other use cases. \\n\\n \\n\\nData Privacy\\nTraining AI models on public data increases the chances of data security breaches that could expose consumers’ personal information. Companies contribute to these risks by adding their own data as well. A 2024 Cisco survey found that 48 percent of businesses have entered non-public company information into generative AI tools and 69 percent are worried these tools could damage their intellectual property and legal rights. A single breach could expose the information of millions of consumers and leave organizations vulnerable as a result.  \\n\\n \\n\\nAutomated Weapons\\nThe use of AI in automated weapons poses a major threat to countries and their general populations. While automated weapons systems are already deadly, they also fail to discriminate between soldiers and civilians. Letting artificial intelligence fall into the wrong hands could lead to irresponsible use and the deployment of weapons that put larger groups of people at risk.  \\n\\n \\n\\nSuperior Intelligence\\nNightmare scenarios depict what’s known as the technological singularity, where superintelligent machines take over and permanently alter human existence through enslavement or eradication. Even if AI systems never reach this level, they can become more complex to the point where it’s difficult to determine how AI makes decisions at times. This can lead to a lack of transparency around how to fix algorithms when mistakes or unintended behaviors occur. \\n\\n“I don’t think the methods we use currently in these areas will lead to machines that decide to kill us,” said Marc Gyongyosi, founder of Onetrack.AI. “I think that maybe five or 10 years from now, I’ll have to reevaluate that statement because we’ll have different methods available and different ways to go about these things.”')]"
      ]
     },
     "execution_count": 5,
     "metadata": {},
     "output_type": "execute_result"
    }
   ],
   "source": [
    "from langchain.document_loaders import TextLoader\n",
    "loader = TextLoader(\"genai_future.txt\",encoding='utf-8')\n",
    "loader.load()"
   ]
  },
  {
   "cell_type": "code",
   "execution_count": 26,
   "id": "d8c802ad-882e-4f4b-a20b-ee58286fe3bc",
   "metadata": {},
   "outputs": [
    {
     "data": {
      "text/plain": [
       "[Document(metadata={'source': '2024prq1.pdf', 'page': 0}, page_content=' \\n  1 \\n \\nmonth marked the end to the \\norganizational simplification we \\nannounced in September . The \\nresult is a cleaner, simpler \\nmanagement structure that fully \\naligns to and facilitates our \\nstrategy . It will also help us \\nexecute our Transformation, \\nprogress as we retire multiple \\nlegacy platforms, streamline \\nend -to-end processes, and \\nstrengthen our risk  and control \\nenvironment . This is necessary \\nto both meet the expectations \\nof our regulators and also to \\nserve our clients more \\neffectively.   \\n \\nWith revenue up 8%, Services \\ncontinues to perform well and \\ngenerate very attractive returns. \\nMarkets bounced bac k from a \\ngood client activity in Equities \\nand Spread Products . The \\nrebound in Banking gained \\nspeed where near -record levels \\nof investment grade debt \\nissuance helped increase \\nrevenues by 49% . In Wealth, we \\ngrew fees and gathe red more \\nthan an estimated $22 billion of \\nnet new assets over the past 12 \\nmonths.  U.S. Personal Banking \\nhad double -digit revenue \\ngrowth for the sixth straight \\nquarter, where we see \\nmomentum across both our \\ncard business and solid \\nengagement in our digital \\npayment offerings.  \\n \\nOur balance sheet is strong \\nacross the board, an intentional \\nresu lt of our high -quality assets, \\nrobust capital and liquidity \\npositions, and rigorous risk \\nmanagement.  We returned $1.5 \\nbillion in capital to our common \\nshareholders while increasing \\nour CET1 ratio to 13.5%. With \\nthe organizational simplification \\nbehind us and a good quarter \\nunder our belt, we have started \\nthis critical year on the right \\n CEO COMMENTARY  For  Immediate Release  \\nCitigroup Inc. (NYSE: C)  \\nApril  12, 2024 \\n  \\nFIRST QUARTER 202 4 RESULTS AND KEY METRICS  \\n \\nRETURNED ~$1.5 BILLION IN THE FORM OF COMMON DIVIDENDS AND \\nREPURCHASES  \\nPAYOUT RATIO OF 49%(3) \\nBOOK VALUE PER SHARE OF $ 99.08 \\nTANGIBLE BOOK VALUE PER SHARE OF $ 86. 67(4) \\n \\nNew York, April  12, 202 4 \\n Citigroup Inc. to day r eported net income  for the first \\nquarter 202 4 of $ 3.4 billion, or $ 1.58 per diluted share, on revenues of $ 21.1 billion.  \\nThis compares to net income of $ 4.6 billion, or $ 2.19  per diluted share, on revenues \\nof $ 21.4  billion for the first quarter 202 3.  \\n     \\nRevenues decreased 2% from the prior -year period , on a reported basis. Excluding \\ndivestiture -related impacts  of $1 billion , primarily  consisting of the  gain  from the \\nsale of the India  consumer business(5) in the prior -year  period , revenues were up  3% \\nyear over year. This increase in revenues was driven by growth across Banking,  U.S. \\nPersonal Banking  (USPB)  and Services , partially offset by declines in Markets and \\nWealth . \\n \\nNet income  of $ 3.4 billion decreased from $4.6 billion  in the prior -year period, \\nprimarily driven by higher expenses, higher cost of credit and the lower revenue s. \\n \\nEarnings per share of $ 1.58 decreased from $2.19  per diluted share in the prior -year \\nperiod, reflecting the lower net income .  \\n \\nPercentage comparisons throughout this press release are calculated for the f irst \\nquarter 202 4 versus the f irst quarter 202 3, unless otherwise specified.  \\n \\n1Q \\nRevenues\\n$21.1B1Q Net \\nIncome\\n$3.4B1Q\\nEPS\\n$1.581Q ROE\\n6.6%\\n1Q RoTCE\\n7.6%(1)CET1 \\nCapital \\nRatio\\n13.5%(2)'),\n",
       " Document(metadata={'source': '2024prq1.pdf', 'page': 1}, page_content=\" \\n  2 \\n First  Quarter Financial Results  \\n \\n \\nCitigroup  \\nCitigroup revenues  of $ 21.1 billion in the first quarter 202 4 decreased 2%, on a reported basis. Excluding  \\ndivestiture -related impacts  of $1 billion , primarily consisting of the gain from the sale of the India consumer \\nbusiness , revenues were up 3% year over year. This increase in revenues was driven by growth across Banking,  \\nUSPB  and Services , partially offset by declines in Markets and Wealth .  \\n \\nCitigroup operating expenses of $ 14.2 billion on a reported basis increased 7%, which include d repositioning \\ncosts of $2 58 million, an incremental FDIC special assessment(6) of $251 million  and restructuring charges(7) of \\n$22 5 million . Excluding divestiture -related impacts(5) and the incremental FDIC  special assessment , expenses \\nwere up 5%. This increase in expenses was largely driven by inflation and volume -related expenses, partially offset \\nby productivity savings . \\n  \\nCitigroup cost of credit  was approximately $2.4 billion in the first quarter 2024 , compared to $ 2.0 billion in the \\nprior -year period , primarily driven by higher card s net credit losses, partially offset by  a lower  allowance for credit \\nlosses ( ACL ) build .  \\n \\nCitigroup net income  of $ 3.4 billion in the first quarter 202 4, compared to net income of $ 4.6 billion in the prior -\\nyear period, driven by  the higher expenses , the higher cost of credit  and the lower  revenue s. \\ntax rate of 25% was unchanged from  the first quarter 202 3.  \\n \\ntotal allowance for credit losses was approximately $ 21.8 billion at quarter end,  compared to $ 19.8 \\nbillion at the end of the prior -year period . Total allowance for credit losses on loans was approximately $ 18.3 \\nbillion at quarter end, compared to $ 17.2 billion at the end of the prior -year period, with a reserve -to-funded loans \\nratio o f 2.75%, compared to 2.65% at the end of the prior -year period. Total non -accrual loans increased 6% from \\nthe prior -year period to $ 2.8 billion . Corporate non -accrual  loans increased  23% to $1.5 billion . Consumer non -\\naccrual loan s decreased 8% from the prior -year period to $1.3 billion .  \\n1Q'24 4Q'23 1Q'23 QoQ% YoY%\\n21,104 17,440 21,447 21% (2)%\\n14,195 15,996 13,289 (11)% 7%\\nNet credit losses 2,303 1,994 1,302 15% 77%\\nNet ACL build / (release)(a)21 397 241 (95)% (91)%\\nOther provisions(b)41 1,156 432 (96)% (91)%\\n2,365 3,547 1,975 (33)% 20%\\n4,544 (2,103) 6,183 NM (27)%\\n1,136 (296) 1,531 NM (26)%\\n3,408 (1,807) 4,652 NM (27)%\\n(1) (1) (1) - -\\n36 31 45 16% (20)%\\n$3,371 $(1,839) $4,606 NM (27)%\\n675 689 652 (2)% 3%\\n2,433 2,412 2,455 1% (1)%\\n1,307 1,309 1,330 - (2)%\\n$99.08 $98.71 $96.59 - 3%\\n$86.67 $86.19 $84.21 1% 3%\\n13.5% 13.4% 13.4%\\n5.8% 5.8% 6.0%\\n6.6% (4.5)% 9.5%\\nReturn on average tangible common equity (RoTCE)(1)7.6% (5.1)% 10.9% NM (330) bps\\nNote:  Please refer to the Appendices and Footnotes at the end of this press release for additional information.\\n(a) Includes credit reserve build / (release) for loans and provision for credit losses on unfunded lending commitments.\\n(b) Includes provisions on Other Assets, policyholder benefits and claims and HTM debt securities.Return on average common equity (ROE)Citigroup\\n($ in millions, except per share amounts and as otherwise noted)\\nIncome (loss) from continuing operations\\nBook value per shareTotal revenues, net of interest expense\\nTotal operating expenses\\nTotal cost of credit\\nCitigroup's net income (loss)Provision (benefit) for income taxes\\nIncome (loss) from discontinued operations, net of taxes\\nNet income attributable to non-controlling interest\\nEOP assets ($B)EOP loans ($B)\\nEOP deposits ($B)Income (loss) from continuing operations before taxes\\nTangible book value per share(4)\\nCommon equity tier 1 (CET1) capital ratio(2)\\nSupplementary leverage ratio (SLR)(2)\"),\n",
       " Document(metadata={'source': '2024prq1.pdf', 'page': 2}, page_content=\" \\n  3 \\n  \\n-of-period loans were $ 675 billion at quarter end, up 3% versus the prior -year period,  largely \\nreflecting  growth in cards in USPB and higher loans in Markets . \\n \\nend -of-period deposits  were approximately $1.3 trillion at quarter end, down  2% versus the prior -\\nyear period , largely due to a reduction in Services  reflecting quantitative tightening.  \\n \\n per share of $ 99.08 and tangible book value per share of $ 86.67 at quarter end each \\nincreased 3% versus the prior -year period . The increases were  largely driven by net income  and common share \\nrepurchases,  partially offset by the payment of common and preferred dividends and adverse movements in the \\naccumulated other comprehensive income (AOCI) component of equity . \\n  preliminary  \\nCET1 Capital ratio was 13.5% versus 13.4% at the end of the prior quarter , driven by net income  and lower risk -\\nweighted assets , partially offset by  payment of  common and preferred dividends , share repurchases  and higher \\ndeferred tax assets . \\n  (SLR)  for the first quarter 202 4 was 5.8%, \\nunchanged versus  the prior quarter . During the quarter, Citigroup returned a total of $ 1.5 billion to common \\nshareholders in the form of dividends  and share repurchases .  \\n \\n \\nServices  \\nServices  revenues  of $ 4.8 billion were up 8%, largely driven by continued momentum across both Treasury  and \\nTrade Solutions  and Securities Services . Net  interest income increased  6%, driven by higher deposit and trade \\nloan spreads , and  non -interest revenue increased 1 4%, largely driven by continued strength across underlying fee \\ndrivers .  \\n \\nTreasury and Trade Solutions  revenues of $ 3.5 billion increased 5%, driven by 4% growth in net interest income \\nand  a 9% increase in non -interest revenues . The increase in net interest income was primarily driven by continued \\n1Q'24 4Q'23 1Q'23 QoQ% YoY%\\nNet interest income 2,723 2,887 2,612 (6)% 4%\\nNon-interest revenue 793 557 727 42% 9%\\nTreasury and Trade Solutions 3,516 3,444 3,339 2% 5%\\nNet interest income 594 555 514 7% 16%\\nNon-interest revenue 656 518 541 27% 21%\\nSecurities Services 1,250 1,073 1,055 16% 18%\\nTotal Services revenues 4,766 4,517 4,394 6% 8%\\n2,666 2,596 2,409 3% 11%\\nNet credit losses 6 (6) 6 NM -\\nNet ACL build / (release)(a)46 105 (65) (56)% NM\\nOther provisions(b)12 547 45 (98)% (73)%\\n64 646 (14) (90)% NM\\n$1,494 $785 $1,296 90% 15%\\nAllocated average TCE(c)25 23 23 8% 8%\\nRoTCE(c)24.1% 13.5% 22.9% 1,060 bps 120 bps\\nAverage loans 82 83 79 (1)% 4%\\nAverage deposits 808 803 830 1% (3)%\\nCross border transaction value 91 99 83 (9)% 9%\\nUS dollar clearing volume (#MM) 40 40 38 (1)% 3%\\nCommercial card spend volume 17 17 16 1% 5%\\nAssets under custody and/or administration (AUC/AUA) ($T)(d)(e)24 24 22 2% 11%\\nNote:  Please refer to the Appendices and Footnotes at the end of this press release for additional information.\\n(a) Includes credit reserve build / (release) for loans and provision for credit losses on unfunded lending commitments.\\n(b) Includes provisions on Other Assets and for HTM debt securities.\\n(d) Reflects prior-period revisions for certain AUC North America accounts.\\n(e) Preliminary.(c) TCE and RoTCE are non-GAAP financial measures. See Appendix H for a reconciliation of the summation of the segments' and component's average allocated TCE  to \\nCiti's total average TCE and Citi's total average stockholders' equity.Services\\n($ in millions, except as otherwise noted)\\nTotal operating expenses\\nTotal cost of credit\\nNet income (loss)\\nServices Key Statistics and Metrics ($B)\"),\n",
       " Document(metadata={'source': '2024prq1.pdf', 'page': 3}, page_content=\" \\n  4 \\n benefits from the rate environment . The increase in non -interest revenue was primarily driven by  an increase in \\ncross -border volumes of 9%, U.S. Dollar clearing volumes of 3% and an incr ease in commercial card spend volume \\nof 5%.  \\n \\nSecurities Services  revenues  of $1.3 billion increased 18%, driven by a 16% increase in net interest income on \\nhigher deposit spreads and a 21% increase in non -interest revenue , driven by increases in assets  under custody \\nand administration  of an estimated  11%, benefiting  from higher market valuations, as well as new client \\nonboarding .  \\n \\nServices  operating expenses of  $2.7 billion increased 11%, largely driven by continued investments in technology \\nand product innovatio n. \\n \\nServices  cost of credit  was $ 64 million , compared to $ (14) million in the prior -year period .   \\n \\nServices  net income  of approximately $ 1.5 billion increased 15%, largely driven by the higher revenues, partially \\noffset by the higher expenses .  \\n \\n \\nMarkets  \\nMarkets revenues of $ 5.4 billion decreased 7%, driven by lower Fixed Income  revenues , partially offset by growth \\nin Equit y revenues .  \\n \\nFixed Income  revenues  of $ 4.2 billion decreased 10%, largely driven by rates and currencies on lower volatility and \\na strong prior -year comparison , partially offset by strength in spread products and other fixed income , which was \\nup 2 6%, driven by an increase in client activity .  \\n \\nEquit y revenues  of $ 1.2 billion increased 5%, driven by g rowth across cash trading and equity derivatives . \\n \\nMarkets  operating expenses  of $ 3.4 billion increased 7%, largely driven by the absence of a legal reserve release \\nin the prior -year period .  \\n \\n1Q'24 4Q'23 1Q'23 QoQ% YoY%\\nRates and currencies 2,799 1,736 3,551 61% (21)%\\nSpread products / other fixed income 1,352 833 1,072 62% 26%\\nFixed Income markets 4,151 2,569 4,623 62% (10)%\\nEquity markets 1,227 819 1,167 50% 5%\\n5,378 3,388 5,790 59% (7)%\\n3,380 3,433 3,162 (2)% 7%\\nNet credit losses 78 30 4 NM NM\\nNet ACL build / (release)(a)119 53 60 NM 98%\\nOther provisions(b)3 126 19 (98)% (84)%\\n200 209 83 (4)% NM\\n$1,395 $(155) $1,848 NM (25)%\\nAllocated average TCE(c)54 53 53 2% 2%\\nRoTCE(c)10.4% (1.2)% 14.1% NM (370) bps\\nAverage trading account assets 408 392 350 4% 17%\\nAverage VaR 154 138 139 11% 11%\\nNote:  Please refer to the Appendices and Footnotes at the end of this press release for additional information.\\n(a) Includes credit reserve build / (release) for loans and provision for credit losses on unfunded lending commitments.\\n(b) Includes provisions on Other Assets and HTM debt securities.\\n(c) TCE and RoTCE are non-GAAP financial measures. See Appendix H for a reconciliation of the summation of the segments' and component's average allocated TCE  to \\nCiti's total average TCE and Citi's total average stockholders' equity.Markets\\n($ in millions, except as otherwise noted)\\nTotal operating expenses\\nTotal cost of credit\\nNet income (loss)\\nMarkets Key Statistics and Metrics ($B)Total Markets revenues\"),\n",
       " Document(metadata={'source': '2024prq1.pdf', 'page': 4}, page_content=\" \\n  5 \\n Markets cost of credit  was  $200  million, compared to $ 83 million in the prior -year period, on net credit losses of \\n$78  million and an ACL build for loans and unfunded commitments of $119 million .  \\n \\nMarkets  net income  of $ 1.4 billion  decreased 2 5%, driven by  the higher expenses , the lower  revenues and the \\nhigher cost of credit.  \\n \\n \\nBanking  \\nBanking revenues  of $ 1.7 billion increased 49%, driven by growth in Investment Banking  and Corporate Lending  \\nand lower losses on loan hedges.   \\n \\nInvestment Banking  revenues  of $ 903  million increased 35%, driven by Debt Capital Markets and Equity Capital \\nMarkets , as improved market sentiment  led to an increase in issuance activity . This increase in revenues was \\npartially offset by lower Advisory revenues , driven by the impact of lower merger activity announced in the second \\nhalf of 2023 . \\n \\nCorporate Lending  revenues  of $ 915 million, excluding mark -to-market on loan hedges ,(8) increased  34% versus \\nthe prior -year , largely driven by higher revenue share .(9) \\n \\nBanking  operating expenses  of $ 1.2 billion decreased 4%, primarily  driven by benefits from repositioning  actions \\nand other actions to lower the expense base , partially offset by business -led investments .  \\n \\nBanking  cost of credit  was  a benefit  of $129 million, compared to a benefit  of $123 million in the prior -year period .   \\n \\nBanking  net income  of $ 536 million  was driven  by the higher revenues  and  the lower  expenses .  \\n \\n \\n1Q'24 4Q'23 1Q'23 QoQ% YoY%\\nInvestment Banking 903 664 667 36% 35%\\nCorporate Lending(a)915 421 683 NM 34%\\n1,818 1,085 1,350 68% 35%\\nGain / (loss) on loan hedges(a)(104) (131) (199) 21% 48%\\n1,714 954 1,151 80% 49%\\nTotal operating expenses 1,184 1,165 1,236 2% (4)%\\nNet credit losses 66 71 12 (7)% NM\\nNet ACL build / (release)(b)(185) (226) (221) 18% 16%\\nOther provisions(c)(10) 339 86 NM NM\\n(129) 184 (123) NM (5)%\\n$536 $(324) $55 NM NM\\nAllocated average TCE(d) ($B) 22 21 21 2% 2%\\nRoTCE(d)9.9% (6.0)% 1.0% NM 890 bps\\nAverage loans ($B) 89 89 95 - (6)%\\nAdvisory fees ($B)Advisory 230 286 276 (20)% (17)%\\nEquity underwriting fees ($B)Equity underwriting 171 110 109 55% 57%\\nDebt underwriting fees ($B)Debt underwriting 576 310 355 86% 62%\\nInvestment Banking fees 977 706 740 38% 32%\\nNote:  Please refer to the Appendices and Footnotes at the end of this press release for additional information.\\n(a) Excludes gain / (loss) on credit derivatives as well as the mark-to-market on loans at fair value. For additional information, please refer to Footnote 8.\\n(b) Includes credit reserve build / (release) for loans and provision for credit losses on unfunded lending commitments.\\n(c) Includes provisions on Other Assets and HTM debt securities.\\n(d) TCE and RoTCE are non-GAAP financial measures. See Appendix H for a reconciliation of the summation of the segments' and component's average allocated TCE to \\nCiti's total average TCE and Citi's total average stockholders' equity.Banking\\n($ in millions, except as otherwise noted)\\nTotal Banking revenues including gain/(loss) on loan hedges(a)\\nTotal cost of credit\\nNet income (loss)\\nBanking Key Statistics and Metrics Total Banking revenues(a)\"),\n",
       " Document(metadata={'source': '2024prq1.pdf', 'page': 5}, page_content=\" \\n  6 \\n  \\nWealth  \\nWealth revenues  of $1.7 billion decreased 4%, driven by a 13% decrease in net interest income on lower deposit \\nspreads and higher mortgage funding costs , partially offset by an 11% increase in non -interest revenue, reflecting \\nhigher investment fee revenues.  \\n \\nPrivate Ban k revenues  of $571 million increased 1%, primarily driven by improved deposit spreads and investment \\nfee revenues, partially offset by higher mortgage funding costs.  \\n \\nWealth at Work  revenues of $181 million decreased 6%, driven by deposit spread compression and high er \\nmortgage funding costs, partially offset by improved investment fee revenues.  \\n \\nCitigold revenues  of $943 million decreased 6%, driven by deposit spread compression, partially offset by growth \\nin investment fee revenues and higher deposit volumes.  \\n \\nWeal th operating expenses  of $1.7 billion increased 3%, driven by technology investments focused on risk and \\ncontrols, as well as platform enhancements, partially offset by benefits from repositioning and restructuring \\nactions.   \\n \\nWealth cost of credit  was a be nefit of $170 million,  compared to a benefit of $58  million in the prior -year period, \\nas net credit losses of $29 million were more than offset by an ACL release for loans and unfunded commitments \\nof $198 million.  \\n \\nWealth net income of $150 million  decreased 6%, primarily driven by the lower revenues and the higher expenses, \\npartially offset by lower cost of credit.  \\n \\n1Q'24 4Q'23 1Q'23 QoQ% YoY%\\nPrivate Bank 571 542 568 5% 1%\\nWealth at Work 181 211 193 (14)% (6)%\\nCitigold 943 918 1,005 3% (6)%\\n1,695 1,671 1,766 1% (4)%\\n1,668 1,647 1,626 1% 3%\\nNet credit losses 29 31 20 (6)% 45%\\nNet ACL build / (release)(a)(198) (26) (75) NM NM\\nOther provisions(b)(1) (1) (3) - 67%\\n(170) 4 (58) NM NM\\n$150 $5 $159 NM (6)%\\nAllocated average TCE(c)13 13 13 (1)% (1)%\\nRoTCE(c)4.6% 0.1% 4.8% 450 bps (20) bps\\nLoans 149 152 150 (2)% (1)%\\nDeposits 323 323 322 - -\\nEstimated client investment assets(d)515 498 459 3% 12%\\nEOP client balances 987 973 931 1% 6%\\nNote:  Please refer to the Appendices and Footnotes at the end of this press release for additional information.\\n(a) Includes credit reserve build / (release) for loans and provision for credit losses on unfunded lending commitments.\\n(b) Includes provisions on Other Assets and policyholder benefits and claims.\\n(d) Includes assets under management, and trust and custody assets. Client Investment Assets are estimated as of 1Q24.Wealth Key Statistics and Metrics ($B)Wealth\\n($ in millions, except as otherwise noted)\\nTotal revenues, net of interest expense\\nTotal operating expenses\\nTotal cost of credit\\nNet income (loss)\\n(c) TCE and RoTCE are non-GAAP financial measures. See Appendix H for a reconciliation of the summation of the segments' and component's average allocated TCE \\nto Citi's total average TCE and Citi's total average stockholders' equity.\"),\n",
       " Document(metadata={'source': '2024prq1.pdf', 'page': 6}, page_content=\" \\n  7 \\n  \\n \\nUS Personal Banking (USPB)  \\nUSPB revenues  of $ 5.2 billion increased 10%, driven by higher net interest income due to loan growth in cards \\nand lower partner payments . \\n \\nBranded Cards  revenues  of $ 2.6 billion increased 7%, driven by interest -earning balance growth of 10%, as \\npayment rates continue d to moderate, and  spend volume grow th of 4%. \\n \\nRetail Services  revenues  of $ 1.9 billion increased 1 8%, primarily driven by the lower partner payments due to \\nhigher net credit losses, as well as interest -earning balance growth of 9% .  \\n \\nRetail Banking  revenues of $ 638 million increased 1%, driven by higher deposit spreads, loan growth and \\nimproved mortgage margins . \\n \\nUSPB operating expenses  of $ 2.5 billion were largely unchanged , due to lower compensation costs, including \\nrepositioning  impacts , offset by higher  volume -related expenses . \\n \\nUSPB cost of credit  was $ 2.2 billion,  compared to $1. 6 billion in the prior -year period. The increase was driven by \\nhigher net credit losses  reflecting continued maturation  of the cards portfolio , partially offset by a lower ACL build . \\n \\nUSPB net income of $ 347 million  decreased 14% , primarily driven by the higher cost of credit, partially offset by \\nthe higher revenues . \\n \\n \\n \\n \\n \\n \\n1Q'24 4Q'23 1Q'23 QoQ% YoY%\\nBranded Cards 2,640 2,620 2,472 1% 7%\\nRetail Services 1,900 1,636 1,610 16% 18%\\nRetail Banking 638 684 629 (7)% 1%\\n5,178 4,940 4,711 5% 10%\\n2,519 2,594 2,529 (3)% -\\nNet credit losses 1,864 1,599 1,074 17% 74%\\nNet ACL build / (release)(a)337 472 576 (29)% (41)%\\nOther provisions(b)3 3 (1) - NM\\n2,204 2,074 1,649 6% 34%\\n$347 $201 $402 73% (14)%\\nAllocated average TCE(c)25 22 22 15% 15%\\nRoTCE(c)5.5% 3.6% 7.4% 190 bps (190) bps\\nAverage loans 204 202 184 1% 11%\\nAverage deposits 100 105 111 (5)% (10)%\\nUS cards average loans 159 158 146 1% 9%\\nUS credit card spend volume(d)141 156 137 (9)% 3%\\nNote:  Please refer to the Appendices and Footnotes at the end of this press release for additional information.\\n(a) Includes credit reserve build / (release) for loans and provision for credit losses on unfunded lending commitments.\\n(b) Includes provisions on policholder benefits and claims and Other Assets.\\n(d) Credit card spend volume was previously referred to as card purchase sales.USPB Key Statistics and Metrics ($B)USPB\\n($ in millions, except as otherwise noted)\\nTotal revenues, net of interest expense\\nTotal operating expenses\\nTotal cost of credit\\nNet income (loss)\\n(c) TCE and RoTCE are non-GAAP financial measures. See Appendix H for a reconciliation of the summation of the segments' and component's average allocated \\nTCE to Citi's total average TCE and Citi's total average stockholders' equity.\"),\n",
       " Document(metadata={'source': '2024prq1.pdf', 'page': 7}, page_content=\" \\n  8 \\n  \\nAll Other (Managed  Basis )(10) \\nAll Other (Managed  Basis ) revenues  of $ 2.4 billion decreased 9%, driven by the closed exits and wind -downs, as \\nwell as higher funding costs, partially offset by higher revenue s in Mexico .   \\n \\nLegacy Franchises  (Managed Basi s)(10) revenues  of $ 1.8 billion were largely unchanged , primarily driven by higher \\nvolumes in Mexico and Mexican Peso appreciation , partially offset by the closed exit s and wind -down s. \\n \\nCorporate / Other  revenues  decreased  to $5 71 million from $812  million in the prior -year period,  largely  driven by \\nthe higher funding costs . \\nAll Other (Managed  Basis ) expenses  of $ 2.7 billion increased 18%, driven by the  incremental  FDIC special \\nassessment and the restructuring charges , partially offset by lower expenses  from the closed exits and wind -\\ndowns.   \\n \\nAll Other (Managed Basis) cost of credit  of $185 million  decreased 59%, largely driven by the absence of a reserve \\nbuild in the prior year period, partially offset by higher net credit losses in Mexico Cons umer . \\n \\nAll Other (Managed Basis) net loss  of $ 457 million was driven by the higher expenses  and the lower revenues , \\npartially offset by the lowe r cost of credit.  \\n \\n \\n \\n \\n \\n \\n \\n \\n1Q'24 4Q'23 1Q'23 QoQ% YoY%\\nLegacy Franchises (Managed Basis) 1,814 1,708 1,805 6% -\\nCorporate / Other 571 324 812 76% (30)%\\n2,385 2,032 2,617 17% (9)%\\n2,668 4,455 2,254 (40)% 18%\\nNet credit losses 249 236 198 6% 26%\\nNet ACL build / (release)(c)(98) 82 (38) NM NM\\nOther provisions(d)34 142 286 (76)% (88)%\\n185 460 446 (60)% (59)%\\n$(457) $(2,240) $198 80% NM\\nAllocated average TCE(e)26 32 28 (21)% (10)%\\n(c) Includes credit reserve build / (release) for loans and provision for credit losses on unfunded lending commitments.\\n(d) Includes provisions on Other Assets and policyholder benefits and claims.\\n(e) TCE is a non-GAAP financial measure. See Appendix H for a reconciliation of the summation of the segments' and component's average allocated TCE.All Other (Managed Basis)(a)(b)\\n($ in millions, except as otherwise noted)\\nTotal revenues\\nTotal operating expenses\\nTotal cost of credit\\nNet income (loss)\\nAll Other Key Statistics and Metrics ($B)\\nNote:  Please refer to the Appendices and Footnotes at the end of this press release for additional information.\\n(a) Includes Legacy Franchises and certain unallocated costs of global staff functions (including finance, risk, human resources, legal and compliance-related \\ncosts), other corporate expenses, and unallocated global operations and technology expenses and income taxes, as well as Corporate Treasury investment \\nactivities and discontinued operations.\\n(b) Reflects results on a managed basis, which excludes divestiture-related impacts related to Citi's divestitures of its Asia consumer banking businesses and the \\nplanned divestiture of Mexico consumer banking, small business and middle-market banking within Legacy Franchises. For additional information, please refer to \\nFootnote 10.\"),\n",
       " Document(metadata={'source': '2024prq1.pdf', 'page': 8}, page_content=' \\n  9 \\n Citigroup will host a conference call today at 1 1:00 AM (ET). A live webcast of the presentation, as well as \\nfinancial results and presentation materials, will be available at https://www.citigroup.com/global/investors . \\nThe live webcast of the presentation can also be accessed a t \\nhttps://www.veracast.com/webcasts/citigroup/webinars/Citi1Q24.cfm  \\n \\n \\nAdditional financial, statistical and business -related information, as well as business and segment trends, is \\nFirst  Quarter 202 4 \\nQuarterly Financial Data Supplem\\n www.citigroup.com .  \\n \\nCiti is a preeminent banking partner for institutions with cross -border needs, a global leader in wealth \\nmanagement a nd a valued personal bank in its home market of the United States. Citi does business in nearly \\n160 countries and jurisdictions, providing corporations, governments, investors, institutions and individuals \\nwith a broad range of financial products and servi ces.  \\n \\nAdditional information may be found at www.citigroup.com  | X: @Citi  | YouTube: www.youtube.com/citi  | Blog: \\nhttp://blog.citigroup.com  | Facebook: www.facebook.com/citi  | LinkedIn: www.linkedin.com/company/citi   \\n \\nCertain statem\\n -\\nsubject to uncertainty and changes in circumstances. These statements are not guarantees of future results or \\noccurrences. Actual results and capital and other financial condition may differ materially from those included in \\nthese statements due to a variety of factors.  These factors include, among others: \\nobjectives, including expense savings and revenue targets, from its transformation, simplification and other \\nstrategic and other initiatives; (ii) the impacts from central bank interest rate policies, whether due to contin ued \\nelevated interest rates, or potential reductions in interest rates and a resulting decline in net interest income; (iii) \\nrevisions to the U.S. Basel III rules, including the recently issued notice of proposed rulemaking, known as the \\nBasel III Endgame,  and other proposed changes in regulatory capital rules; (iv) continued elevated levels of, or \\nany resurgence in, inflation and its impacts; (v) the various uncertainties and impacts related to or resulting from \\nthe Middle East; and (vi) the precautionary statements included in this \\n-K. Any \\nforward -looking statements made by or on behalf of Citigroup speak only as to the date they are made, and Citi \\ndoes not undertake to update forward -looking statements to reflect the impact of circumstances or events that \\narise after the date the forward -looking statements were made . \\n \\nContacts:  \\nInvestors: Jennifer Landis (212) 559 -2718         \\nPress: Danielle Romero -Apsilos (212) 816 -2264  \\n  '),\n",
       " Document(metadata={'source': '2024prq1.pdf', 'page': 9}, page_content=\" \\n  10 \\n  \\n \\n \\n \\n \\n \\n \\n \\nAppendix A\\nCitigroup \\n($ in millions)1Q24 4Q23 1Q23\\nNet Income (Loss) $3,371 $(1,839) $4,606\\nLess: Preferred Dividends 279 300 277\\nNet Income (Loss) to Common Shareholders $3,092 $(2,139) $4,329\\nAverage Common Equity $188,001 $189,440 $184,107\\nLess: Average Goodwill and Intangibles (23,335) (24,268) (23,057)\\nAverage Tangible Common Equity (TCE) $164,666 $165,172 $161,050\\nROE 6.6% (4.5)% 9.5%\\nRoTCE 7.6% (5.1)% 10.9%\\nAppendix B\\nCitigroup\\n($ in millions)\\nTotal Citigroup Revenue - As Reported $21,104 $21,447 (2)%\\nLess: \\nTotal Divestiture-related Impact on Revenue (12)                   1,018               \\nTotal Citigroup Revenue, Excluding Total Divestiture-related Impact $21,116 $20,429 3%\\nTotal Citigroup Operating Expenses - As Reported $14,195 $13,289 7%\\nLess: \\nIncremental FDIC Special Assessment Impact on Operating Expenses 251                 -\\nTotal Divestiture-related Impact on Operating Expenses 110                  73                     \\nTotal Citigroup Operating Expenses, Excluding Total Divestiture-related Impact and Incremental FDIC Special Assessment $13,834 $13,216 5%1Q'24 1Q'23 % Δ YoY\\nAppendix C (a)\\nAll Other\\n($ in millions)\\nAll Other Revenues, Managed Basis $2,385 $2,032 $2,617 17% (9)%\\nAdd: \\nAll Other Divestiture-related Impact on Revenue(b)$(12) $(62) $1,018\\nAll Other Revenues (U.S. GAAP) $2,373 $1,970 $3,635 20% (35)%\\nAll Other Operating Expenses, Managed Basis $2,668 $4,455 $2,254 (40)% 18%\\nAdd: \\nAll Other Divestiture-related Impact on Operating Expenses(c)(d)$110 $106 $73\\nAll Other Operating Expenses (U.S. GAAP) $2,778 $4,561 $2,327 (39)% 19%\\nAll Other Cost of Credit, Managed Basis $185 $460 $446 (60)% (59)%\\nAdd: \\nAll Other Net credit losses 11                          33                        (12)                        \\nAll Other Net ACL build / (release)(e)- (63)                      4                           \\nAll Other Other provisions(f)- - -\\nAll Other Citigroup Cost of Credit (U.S. GAAP) $196 $430 $438 (54)% (55)%\\nAll Other Citigroup Net Income (Loss), Managed Basis $(457) $(2,240) $198 80% NM\\nAdd: \\nAll Other Divestiture-related Impact on Revenue(b)(12)                        (62)                      1,018                  \\nAll Other Divestiture-related Impact on Operating Expenses(c)(d)(110)                     (106)                    (73)                       \\nAll Other Divestiture-related Impact on Cost of Credit (11)                         30                        8                           \\nAll Other Divestiture-related Impact on Taxes(b)39                        27                         (305)                   \\nAll Other Net Income (Loss) (U.S. GAAP) $(551) $(2,351) $846 77% NM\\n% Δ YoY 1Q'24 1Q'23 4Q'23 % Δ QoQ\\n(e) Includes credit reserve build / (release) for loans and provision for credit losses on unfunded lending commitments.\\n(f) Includes provisions for policyholder benefits and claims and other assets.(c) 4Q23 includes approximately $106 million in operating expenses (approximately $75 million after-tax), primarily related to separation costs in Mexico and severance costs in the Asia exit \\nmarkets.\\xa0For additional information, see Citi's Annual Report on Form 10-K for the year ended December 31, 2023.(b) 1Q23 includes an approximate $1.059 billion gain on sale recorded in revenue (approximately $727 million after various taxes) related to Citi's sale of the India consumer banking business. For \\nadditional information, see Citi's Quarterly Report on Form 10-Q for the quarterly period ended March 31, 2023.\\n(d) 1Q24 includes approximately $110 million in operating expenses (approximately $77 million after-tax), primarily related to separation costs in Mexico and severance costs in the Asia exit markets.\\xa0\\xa0 \"),\n",
       " Document(metadata={'source': '2024prq1.pdf', 'page': 10}, page_content=\" \\n  11 \\n  \\n \\n \\n \\n \\n \\n \\n \\nAppendix D\\n($ in millions) 1Q'24(1)4Q'23 1Q'23\\n $189,059  $187,937  $188,186 \\n 159  153  207 \\n 757  1,514  1,514 \\n (914)  (1,406)  (2,161)\\n (1,031)  (410)  1,037 \\n 18,647  18,778  18,844 \\n 3,258  3,349  3,607 \\n 1,386  1,317  1,999 \\n 11,936  12,075  11,783 \\n 3,551  2,306  1,045 \\nCommon Equity Tier 1 Capital (CET1)  $153,142  $153,595  $153,753 \\nRisk-Weighted Assets (RWA)(3) $1,137,050  $1,148,608 $1,144,359 \\nCommon Equity Tier 1 Capital Ratio (CET1 / RWA)(3)13.5% 13.4% 13.4%\\nNote:\\n(1) Preliminary.\\n(2)\\n(3) Please refer to Footnote 2 at the end of this press release for additional information.\\n(4)\\n(5)\\n(6)Deferred tax assets (DTAs) arising from net operating loss, foreign tax credit\\n     and general business credit carry-forwards(5)Defined benefit pension plan net assets; otherAccumulated net unrealized gains (losses) on cash flow hedges, net of tax\\nCumulative unrealized net gain (loss) related to changes in fair value of financial\\n     liabilities attributable to own creditworthiness, net of tax\\nIntangible Assets:\\nGoodwill, net of related deferred tax liabilities (DTLs)(4)\\nIdentifiable intangible assets other than mortgage servicing rights (MSRs),\\n     net of related DTLsCitigroup Common Stockholders' Equity(2)\\nAdd: Qualifying noncontrolling interests\\nRegulatory Capital Adjustments and Deductions:\\nAdd: CECL transition provision(3)\\nLess:\\nAssets subject to 10% / 15% limitations include MSRs, DTAs arising from temporary differences and significant common stock investments in unconsolidated financial \\ninstitutions. For all periods presented, the deduction related only to DTAs arising from temporary differences that exceeded the 10% limitation.Excess over 10% / 15% limitations for other DTAs, certain common stock\\n     investments, and MSRs(5)(6)\\nExcludes issuance costs related to outstanding preferred stock in accordance with Federal Reserve Board regulatory reporting requirements.\\nRepresents deferred tax excludable from Basel III CET1 Capital, which includes net DTAs arising from net operating loss, foreign tax credit and general business credit tax \\ncarry-forwards and DTAs arising from timing differences (future deductions) that are deducted from CET1 capital exceeding the 10% limitation.\\nAppendix E\\n($ in millions) 1Q'24(1)4Q'23 1Q'23\\nCommon Equity Tier 1 Capital (CET1)(2) $153,142  $153,595  $153,753 \\nAdditional Tier 1 Capital (AT1)(3)               18,923                18,909                21,496 \\nTotal Tier 1 Capital (T1C) (CET1 + AT1)  $172,065  $172,504  $175,249 \\nTotal Leverage Exposure (TLE)(2) $2,949,960  $2,964,954  $2,939,744 \\nSupplementary Leverage Ratio (T1C / TLE) 5.8% 5.8% 6.0%\\n(1)      Preliminary.\\n(2)     Please refer to Footnote 2 at the end of this press release for additional information.\\n(3)     Additional Tier 1 Capital primarily includes qualifying noncumulative perpetual preferred stock and qualifying trust preferred securities.\\nAppendix F\\n($ and shares in millions) 1Q'24(1)4Q'23 1Q'23\\nCommon Stockholders' Equity $188,985 $187,853 $188,050\\nLess:\\nGoodwill 20,042 20,098 19,882\\nIntangible Assets (other than MSRs) 3,636 3,730 3,974\\nGoodwill and Identifiable Intangible Assets (other than MSRs) Related to Assets Held-for-Sale - - 246\\nTangible Common Equity (TCE) $165,307 $164,025 $163,948\\nCommon Shares Outstanding (CSO) 1,907.4 1,903.1 1,946.8\\nTangible Book Value Per Share $86.67 $86.19 $84.21\\n(1)  Preliminary.\"),\n",
       " Document(metadata={'source': '2024prq1.pdf', 'page': 11}, page_content=\" \\n  12 \\n  \\n \\n \\n \\n \\n \\n \\n \\n \\n \\n \\n \\n \\n \\n \\n \\n  \\n \\nAppendix G\\nBanking\\n($ in millions)\\nCorporate Lending Revenues - As Reported $811 $290 $484 NM 68%\\nLess: \\nGain/(loss) on loan hedges(a)$(104) $(131) $(199) 21% 48%\\nCorporate Lending Revenues - Excluding Gain/(loss) on loan hedges $915 $421 $683 NM 34%\\n(a)     Please refer to Footnote 8 at the end of this press release for additional information.% Δ YoY 1Q'24 4Q'23 1Q'23 % Δ QoQ\\nAppendix H\\n($ in billions) 1Q'24 4Q'23 1Q'23\\nAverage Tangible Common Equity (TCE)\\nServices $24.9 $23.0 $23.0\\nMarkets 54.0 53.1 53.1\\nBanking 21.8 21.4 21.4\\nUSPB 25.2 21.9 21.9\\nWealth 13.2 13.4 13.4\\nAll Other 25.6 32.4 28.3\\nTotal Citigroup Average TCE $164.7 $165.2 $161.1\\nPlus:\\nAverage Goodwill 19.6 20.4 18.7\\nAverage Intangible Assets (other than MSRs) 3.7 3.8 3.9\\nAverage Goodwill and Identifiable Intangible Assets (other than MSRs) Related to Assets Held-for-Sale - - 0.4\\nTotal Citigroup Average Common Stockholders' Equity $188.0 $189.4 $184.1\"),\n",
       " Document(metadata={'source': '2024prq1.pdf', 'page': 12}, page_content=\" \\n  13 \\n (1) Ratios as of March 31, 2024 are preliminary\\n allocated average tangible common equity (TCE) and \\nreturn on average tangible common equity (RoTCE)  are non -GAAP financial measure s. RoTCE represents \\nannualized net income available to common shareho lders as a percentage of average TCE. For the components \\nof the se calculation s, see Appendix A.  See Appendix F for a reconciliation of common equity to TCE . For a \\nH. \\n \\n(2) Ratios as of March 31 , 202 4 \\nSupplementary Leverage ratio (SLR) reflect certain deferrals based on the modified regulatory capital transition \\nprovision related to the Current Expected Credit Loss es (CECL) standard. Excluding the se \\nCET1 Capital ratio and SLR as of  March 31, 202 4 would be 13.4% and  5.8%, respectively, on a fully reflected  \\nRegulatory Capital Treatment\\n Modified Transition  \\nof the Current Expected Credit Losses Methodology\\n 202 3 Annual Report on Form 10 -K. Certain \\nprior period amounts have been r evised to conform  with enhancements made in the current period.  \\n \\nD\\nSLR, see Appendix E. \\n \\n(3) \\nincome available to common shareholders.  \\n \\n(4) \\n -GAAP financial measure. See Appendix F for a reconciliation \\nof common equity to tangible common equity and resulting calculation of tangible book value per share.   \\n \\n(5) First quarter 2023  includes an approximate $1.059 billion gain on sale recorded in revenue (approximately \\n$727 million after various taxes) related to Citi's sale of the India consumer banking business .  \\n \\nFirst quarter 2024  includes approximately $110 million in operating expenses (approximately $7 7 million after -\\ntax), primarily related to separation costs in Mexico and severanc e costs in the Asia exit markets . \\n \\nResults of operations excluding divestiture -related impacts are non -GAAP financial measures. For additional \\ninformation and a reconciliation to reported results, please refer to Appendi x B. \\n \\n(6) Citi recorded a $25 1 million incremental pre -tax charge to operating expenses in the first quarter 2024 related \\nuninsured depositors at Silicon Valley Bank and  Signature Bank.  Results of operations excluding the impact of \\nthis charge are non -GAAP financial measures. For a reconciliation to reported results, please refer to Appendix B. \\n \\n(7) Citi recorded $2 25 million in restructuring charges in the first quarter 2024, largely driven by severance and \\n \\n \\n(8) Credit derivatives are used to economically hedge a portion  of the Corporate Lending  portfolio that includes \\nboth accrual loans and loans at fair value. Gain / (loss) on loan hedges includes the mark -to-market on the \\ncredit derivatives and the mark -to-market on the loans in the portfolio that are at fair value. In  the first quarter \\n202 4, gain / (loss) on loan hedges included $( 104) million related to Corporate Lending , compared to $( 199 ) \\nmillion in the prior -year period. The fixed premium costs of these hedges are netted against the Corporate \\nLending  \\ngain / (loss) on loan hedges a re non -GAAP financial measures. For a reconciliation to reported results, please \\nrefer to Append ix G. \\n \\n(9) Certain revenues earned by Citi are subject to a revenue sharing agreement to Banking \\n  Corporate Lending  \\nfrom Investment Banking and certain Markets  and Services  products sold to clients . \\n \\n(10) All Other (Managed Basis)  reflects results on a managed basis , which excludes divestiture -related impacts, for \\nall periods, related to \\n divestitures  of its Asia consumer banking business es and the planned divestiture of \\nMexico consumer banking  and small  business and middle market banking  within Legacy Franchises . Certain of \\nthe r esults of operations of All Other (Managed Basis)  and Legacy Franchises (Managed Basis)  that exclud e \"),\n",
       " Document(metadata={'source': '2024prq1.pdf', 'page': 13}, page_content=' \\n  14 \\n divestiture -related impacts are non -GAAP financial measures. For additional information and  a reconciliation of \\nthese results, please refer to Appendix C.   ')]"
      ]
     },
     "execution_count": 26,
     "metadata": {},
     "output_type": "execute_result"
    }
   ],
   "source": [
    "from langchain.document_loaders import PyPDFLoader\n",
    "loader = PyPDFLoader('2024prq1.pdf')\n",
    "documents = loader.load()\n",
    "documents"
   ]
  },
  {
   "cell_type": "code",
   "execution_count": 6,
   "id": "bb95e130",
   "metadata": {},
   "outputs": [
    {
     "data": {
      "text/plain": [
       "'genai_future.txt'"
      ]
     },
     "execution_count": 6,
     "metadata": {},
     "output_type": "execute_result"
    }
   ],
   "source": [
    "loader.file_path"
   ]
  },
  {
   "cell_type": "markdown",
   "id": "4da25ff7",
   "metadata": {},
   "source": [
    "#### CSVLoader"
   ]
  },
  {
   "cell_type": "code",
   "execution_count": 27,
   "id": "ad67ba6e",
   "metadata": {},
   "outputs": [
    {
     "data": {
      "text/plain": [
       "[Document(metadata={'source': 'movies.csv', 'row': 0}, page_content='movie_id: 101\\ntitle: K.G.F: Chapter 2\\nindustry: Bollywood\\nrelease_year: 2022\\nimdb_rating: 8.4\\nstudio: Hombale Films\\nlanguage_id: 3\\nbudget: 1\\nrevenue: 12.5\\nunit: Billions\\ncurrency: INR'),\n",
       " Document(metadata={'source': 'movies.csv', 'row': 1}, page_content='movie_id: 102\\ntitle: Doctor Strange in the Multiverse of Madness\\nindustry: Hollywood\\nrelease_year: 2022\\nimdb_rating: 7\\nstudio: Marvel Studios\\nlanguage_id: 5\\nbudget: 200\\nrevenue: 954.8\\nunit: Millions\\ncurrency: USD'),\n",
       " Document(metadata={'source': 'movies.csv', 'row': 2}, page_content='movie_id: 103\\ntitle: Thor: The Dark World\\nindustry: Hollywood\\nrelease_year: 2013\\nimdb_rating: 6.8\\nstudio: Marvel Studios\\nlanguage_id: 5\\nbudget: 165\\nrevenue: 644.8\\nunit: Millions\\ncurrency: USD'),\n",
       " Document(metadata={'source': 'movies.csv', 'row': 3}, page_content='movie_id: 104\\ntitle: Thor: Ragnarok\\nindustry: Hollywood\\nrelease_year: 2017\\nimdb_rating: 7.9\\nstudio: Marvel Studios\\nlanguage_id: 5\\nbudget: 180\\nrevenue: 854\\nunit: Millions\\ncurrency: USD'),\n",
       " Document(metadata={'source': 'movies.csv', 'row': 4}, page_content='movie_id: 105\\ntitle: Thor: Love and Thunder\\nindustry: Hollywood\\nrelease_year: 2022\\nimdb_rating: 6.8\\nstudio: Marvel Studios\\nlanguage_id: 5\\nbudget: 250\\nrevenue: 670\\nunit: Millions\\ncurrency: USD'),\n",
       " Document(metadata={'source': 'movies.csv', 'row': 5}, page_content='movie_id: 106\\ntitle: Sholay\\nindustry: Bollywood\\nrelease_year: 1975\\nimdb_rating: 8.1\\nstudio: United Producers\\nlanguage_id: 1\\nbudget: Not Available\\nrevenue: Not Available\\nunit: Not Available\\ncurrency: Not Available'),\n",
       " Document(metadata={'source': 'movies.csv', 'row': 6}, page_content='movie_id: 107\\ntitle: Dilwale Dulhania Le Jayenge\\nindustry: Bollywood\\nrelease_year: 1995\\nimdb_rating: 8\\nstudio: Yash Raj Films\\nlanguage_id: 1\\nbudget: 400\\nrevenue: 2000\\nunit: Millions\\ncurrency: INR'),\n",
       " Document(metadata={'source': 'movies.csv', 'row': 7}, page_content='movie_id: 108\\ntitle: 3 Idiots\\nindustry: Bollywood\\nrelease_year: 2009\\nimdb_rating: 8.4\\nstudio: Vinod Chopra Films\\nlanguage_id: 1\\nbudget: 550\\nrevenue: 4000\\nunit: Millions\\ncurrency: INR'),\n",
       " Document(metadata={'source': 'movies.csv', 'row': 8}, page_content='movie_id: 109\\ntitle: Kabhi Khushi Kabhie Gham\\nindustry: Bollywood\\nrelease_year: 2001\\nimdb_rating: 7.4\\nstudio: Dharma Productions\\nlanguage_id: 1\\nbudget: 390\\nrevenue: 1360\\nunit: Millions\\ncurrency: INR')]"
      ]
     },
     "execution_count": 27,
     "metadata": {},
     "output_type": "execute_result"
    }
   ],
   "source": [
    "from langchain.document_loaders.csv_loader import CSVLoader\n",
    "loader = CSVLoader(file_path=\"movies.csv\")\n",
    "data = loader.load()\n",
    "data"
   ]
  },
  {
   "cell_type": "code",
   "execution_count": 9,
   "id": "220b3fcb",
   "metadata": {},
   "outputs": [
    {
     "data": {
      "text/plain": [
       "[Document(metadata={'source': 'movies.csv', 'row': 0}, page_content='movie_id: 101\\ntitle: K.G.F: Chapter 2\\nindustry: Bollywood\\nrelease_year: 2022\\nimdb_rating: 8.4\\nstudio: Hombale Films\\nlanguage_id: 3\\nbudget: 1\\nrevenue: 12.5\\nunit: Billions\\ncurrency: INR'),\n",
       " Document(metadata={'source': 'movies.csv', 'row': 1}, page_content='movie_id: 102\\ntitle: Doctor Strange in the Multiverse of Madness\\nindustry: Hollywood\\nrelease_year: 2022\\nimdb_rating: 7\\nstudio: Marvel Studios\\nlanguage_id: 5\\nbudget: 200\\nrevenue: 954.8\\nunit: Millions\\ncurrency: USD'),\n",
       " Document(metadata={'source': 'movies.csv', 'row': 2}, page_content='movie_id: 103\\ntitle: Thor: The Dark World\\nindustry: Hollywood\\nrelease_year: 2013\\nimdb_rating: 6.8\\nstudio: Marvel Studios\\nlanguage_id: 5\\nbudget: 165\\nrevenue: 644.8\\nunit: Millions\\ncurrency: USD'),\n",
       " Document(metadata={'source': 'movies.csv', 'row': 3}, page_content='movie_id: 104\\ntitle: Thor: Ragnarok\\nindustry: Hollywood\\nrelease_year: 2017\\nimdb_rating: 7.9\\nstudio: Marvel Studios\\nlanguage_id: 5\\nbudget: 180\\nrevenue: 854\\nunit: Millions\\ncurrency: USD'),\n",
       " Document(metadata={'source': 'movies.csv', 'row': 4}, page_content='movie_id: 105\\ntitle: Thor: Love and Thunder\\nindustry: Hollywood\\nrelease_year: 2022\\nimdb_rating: 6.8\\nstudio: Marvel Studios\\nlanguage_id: 5\\nbudget: 250\\nrevenue: 670\\nunit: Millions\\ncurrency: USD'),\n",
       " Document(metadata={'source': 'movies.csv', 'row': 5}, page_content='movie_id: 106\\ntitle: Sholay\\nindustry: Bollywood\\nrelease_year: 1975\\nimdb_rating: 8.1\\nstudio: United Producers\\nlanguage_id: 1\\nbudget: Not Available\\nrevenue: Not Available\\nunit: Not Available\\ncurrency: Not Available'),\n",
       " Document(metadata={'source': 'movies.csv', 'row': 6}, page_content='movie_id: 107\\ntitle: Dilwale Dulhania Le Jayenge\\nindustry: Bollywood\\nrelease_year: 1995\\nimdb_rating: 8\\nstudio: Yash Raj Films\\nlanguage_id: 1\\nbudget: 400\\nrevenue: 2000\\nunit: Millions\\ncurrency: INR'),\n",
       " Document(metadata={'source': 'movies.csv', 'row': 7}, page_content='movie_id: 108\\ntitle: 3 Idiots\\nindustry: Bollywood\\nrelease_year: 2009\\nimdb_rating: 8.4\\nstudio: Vinod Chopra Films\\nlanguage_id: 1\\nbudget: 550\\nrevenue: 4000\\nunit: Millions\\ncurrency: INR'),\n",
       " Document(metadata={'source': 'movies.csv', 'row': 8}, page_content='movie_id: 109\\ntitle: Kabhi Khushi Kabhie Gham\\nindustry: Bollywood\\nrelease_year: 2001\\nimdb_rating: 7.4\\nstudio: Dharma Productions\\nlanguage_id: 1\\nbudget: 390\\nrevenue: 1360\\nunit: Millions\\ncurrency: INR')]"
      ]
     },
     "execution_count": 9,
     "metadata": {},
     "output_type": "execute_result"
    }
   ],
   "source": []
  },
  {
   "cell_type": "code",
   "execution_count": 10,
   "id": "4e1b3b9a",
   "metadata": {
    "scrolled": true
   },
   "outputs": [
    {
     "data": {
      "text/plain": [
       "Document(metadata={'source': 'movies.csv', 'row': 0}, page_content='movie_id: 101\\ntitle: K.G.F: Chapter 2\\nindustry: Bollywood\\nrelease_year: 2022\\nimdb_rating: 8.4\\nstudio: Hombale Films\\nlanguage_id: 3\\nbudget: 1\\nrevenue: 12.5\\nunit: Billions\\ncurrency: INR')"
      ]
     },
     "execution_count": 10,
     "metadata": {},
     "output_type": "execute_result"
    }
   ],
   "source": [
    "data[0]"
   ]
  },
  {
   "cell_type": "code",
   "execution_count": 11,
   "id": "e356cd2b",
   "metadata": {},
   "outputs": [
    {
     "data": {
      "text/plain": [
       "[Document(metadata={'source': 'K.G.F: Chapter 2', 'row': 0}, page_content='movie_id: 101\\ntitle: K.G.F: Chapter 2\\nindustry: Bollywood\\nrelease_year: 2022\\nimdb_rating: 8.4\\nstudio: Hombale Films\\nlanguage_id: 3\\nbudget: 1\\nrevenue: 12.5\\nunit: Billions\\ncurrency: INR'),\n",
       " Document(metadata={'source': 'Doctor Strange in the Multiverse of Madness', 'row': 1}, page_content='movie_id: 102\\ntitle: Doctor Strange in the Multiverse of Madness\\nindustry: Hollywood\\nrelease_year: 2022\\nimdb_rating: 7\\nstudio: Marvel Studios\\nlanguage_id: 5\\nbudget: 200\\nrevenue: 954.8\\nunit: Millions\\ncurrency: USD'),\n",
       " Document(metadata={'source': 'Thor: The Dark World', 'row': 2}, page_content='movie_id: 103\\ntitle: Thor: The Dark World\\nindustry: Hollywood\\nrelease_year: 2013\\nimdb_rating: 6.8\\nstudio: Marvel Studios\\nlanguage_id: 5\\nbudget: 165\\nrevenue: 644.8\\nunit: Millions\\ncurrency: USD'),\n",
       " Document(metadata={'source': 'Thor: Ragnarok', 'row': 3}, page_content='movie_id: 104\\ntitle: Thor: Ragnarok\\nindustry: Hollywood\\nrelease_year: 2017\\nimdb_rating: 7.9\\nstudio: Marvel Studios\\nlanguage_id: 5\\nbudget: 180\\nrevenue: 854\\nunit: Millions\\ncurrency: USD'),\n",
       " Document(metadata={'source': 'Thor: Love and Thunder', 'row': 4}, page_content='movie_id: 105\\ntitle: Thor: Love and Thunder\\nindustry: Hollywood\\nrelease_year: 2022\\nimdb_rating: 6.8\\nstudio: Marvel Studios\\nlanguage_id: 5\\nbudget: 250\\nrevenue: 670\\nunit: Millions\\ncurrency: USD'),\n",
       " Document(metadata={'source': 'Sholay', 'row': 5}, page_content='movie_id: 106\\ntitle: Sholay\\nindustry: Bollywood\\nrelease_year: 1975\\nimdb_rating: 8.1\\nstudio: United Producers\\nlanguage_id: 1\\nbudget: Not Available\\nrevenue: Not Available\\nunit: Not Available\\ncurrency: Not Available'),\n",
       " Document(metadata={'source': 'Dilwale Dulhania Le Jayenge', 'row': 6}, page_content='movie_id: 107\\ntitle: Dilwale Dulhania Le Jayenge\\nindustry: Bollywood\\nrelease_year: 1995\\nimdb_rating: 8\\nstudio: Yash Raj Films\\nlanguage_id: 1\\nbudget: 400\\nrevenue: 2000\\nunit: Millions\\ncurrency: INR'),\n",
       " Document(metadata={'source': '3 Idiots', 'row': 7}, page_content='movie_id: 108\\ntitle: 3 Idiots\\nindustry: Bollywood\\nrelease_year: 2009\\nimdb_rating: 8.4\\nstudio: Vinod Chopra Films\\nlanguage_id: 1\\nbudget: 550\\nrevenue: 4000\\nunit: Millions\\ncurrency: INR'),\n",
       " Document(metadata={'source': 'Kabhi Khushi Kabhie Gham', 'row': 8}, page_content='movie_id: 109\\ntitle: Kabhi Khushi Kabhie Gham\\nindustry: Bollywood\\nrelease_year: 2001\\nimdb_rating: 7.4\\nstudio: Dharma Productions\\nlanguage_id: 1\\nbudget: 390\\nrevenue: 1360\\nunit: Millions\\ncurrency: INR')]"
      ]
     },
     "execution_count": 11,
     "metadata": {},
     "output_type": "execute_result"
    }
   ],
   "source": [
    "loader = CSVLoader(file_path=\"movies.csv\", source_column=\"title\")\n",
    "data = loader.load()\n",
    "data"
   ]
  },
  {
   "cell_type": "code",
   "execution_count": 12,
   "id": "42d13fd6",
   "metadata": {},
   "outputs": [
    {
     "data": {
      "text/plain": [
       "'movie_id: 101\\ntitle: K.G.F: Chapter 2\\nindustry: Bollywood\\nrelease_year: 2022\\nimdb_rating: 8.4\\nstudio: Hombale Films\\nlanguage_id: 3\\nbudget: 1\\nrevenue: 12.5\\nunit: Billions\\ncurrency: INR'"
      ]
     },
     "execution_count": 12,
     "metadata": {},
     "output_type": "execute_result"
    }
   ],
   "source": [
    "data[0].page_content"
   ]
  },
  {
   "cell_type": "code",
   "execution_count": 13,
   "id": "0d8913df",
   "metadata": {},
   "outputs": [
    {
     "data": {
      "text/plain": [
       "{'source': 'K.G.F: Chapter 2', 'row': 0}"
      ]
     },
     "execution_count": 13,
     "metadata": {},
     "output_type": "execute_result"
    }
   ],
   "source": [
    "data[0].metadata"
   ]
  },
  {
   "cell_type": "markdown",
   "id": "f0163924",
   "metadata": {},
   "source": [
    "#### UnstructuredURLLoader"
   ]
  },
  {
   "cell_type": "markdown",
   "id": "48644959",
   "metadata": {},
   "source": [
    "UnstructuredURLLoader of Langchain internally uses unstructured python library to load the content from url's\n",
    "\n",
    "https://unstructured-io.github.io/unstructured/introduction.html\n",
    "\n",
    "https://pypi.org/project/unstructured/#description"
   ]
  },
  {
   "cell_type": "code",
   "execution_count": 14,
   "id": "2e1fbf77",
   "metadata": {},
   "outputs": [],
   "source": [
    "#installing necessary libraries, libmagic is used for file type detection\n",
    "#!pip3 install unstructured libmagic python-magic python-magic-bin"
   ]
  },
  {
   "cell_type": "code",
   "execution_count": 15,
   "id": "b8c9d9d0",
   "metadata": {},
   "outputs": [],
   "source": [
    "#!pip install --upgrade --quiet unstructured"
   ]
  },
  {
   "cell_type": "code",
   "execution_count": 28,
   "id": "53c1d689",
   "metadata": {},
   "outputs": [],
   "source": [
    "from langchain_community.document_loaders import UnstructuredURLLoader\n",
    "\n",
    "urls = [\n",
    "    \"https://www.understandingwar.org/backgrounder/russian-offensive-campaign-assessment-february-8-2023\",\n",
    "    \"https://www.understandingwar.org/backgrounder/russian-offensive-campaign-assessment-february-9-2023\",\n",
    "]"
   ]
  },
  {
   "cell_type": "code",
   "execution_count": 29,
   "id": "74cb85fd",
   "metadata": {},
   "outputs": [
    {
     "data": {
      "text/plain": [
       "Document(metadata={'source': 'https://www.understandingwar.org/backgrounder/russian-offensive-campaign-assessment-february-8-2023'}, page_content='Skip to main content\\n\\nHome\\n\\nWho We Are\\n\\nResearch\\n\\nPublications\\n\\nGet Involved\\n\\nPlanned Giving\\n\\nDonate\\n\\nRussian Offensive Campaign Assessment, February 8, 2023\\n\\nFeb 8, 2023 - ISW Press\\n\\nDownload the PDF\\n\\nKarolina Hird, Riley Bailey, George Barros, Layne Philipson, Nicole Wolkov, and Mason Clark\\n\\nFebruary 8, 8:30pm ET\\n\\nClick here to see ISW’s interactive map of the Russian invasion of Ukraine. This map is updated daily alongside the static maps present in this report.\\n\\nRussian forces have regained the initiative in Ukraine and have begun their next major offensive in Luhansk Oblast. The pace of Russian operations along the Svatove-Kreminna line in western Luhansk Oblast has increased markedly over the past week, and Russian sources are widely reporting that conventional Russian troops are attacking Ukrainian defensive lines and making marginal advances along the Kharkiv-Luhansk Oblast border, particularly northwest of Svatove near Kupyansk and west of Kreminna.[1] Geolocated combat footage has confirmed Russian gains in the Dvorichne area northwest of Svatove.[2] Russian military command additionally appears to have fully committed elements of several conventional divisions to decisive offensive operations along the Svatove-Kreminna line, as ISW previously reported.[3] Elements of several regiments of the 144th and 3rd Motor Rifle Division (20th Combined Arms Army, Western Military District) and a regiment of the 90th Tank Division (Central Military District), supported by elements of the 76th Airborne Division and unspecified Southern Military District elements, are conducting offensive operations along the entire Svatove-Kreminna line and are reportedly advancing against Ukrainian defenses.[4]\\n\\nThe commitment of significant elements of at least three major Russian divisions to offensive operations in this sector indicates the Russian offensive has begun, even if Ukrainian forces are so far preventing Russian forces from securing significant gains. The Russian offensive likely has not yet reached its full tempo; Russian command has not yet committed elements of the 2nd Motorized Rifle Division (1st Guards Tank Army, Western Military District), which deployed to Luhansk Oblast in January after deploying to Belarus.[5] Russian forces are gradually beginning an offensive, but its success is not inherent or predetermined. While Russian forces in Luhansk Oblast now have the initiative (in that Russian forces are setting the terms of battle, ending the period of Ukrainian initiative from August 2022), the full commitment of these forces could lead to their eventual culmination along the Svatove-Kreminna line without achieving their objectives of capturing all of Luhansk and Donetsk oblasts. That culmination would likely provide a window of opportunity for Ukrainian forces to exploit with their own counteroffensive.[6]\\n\\nDonetsk People’s Republic (DNR) People’s Militia command reportedly assumed control over a Russian artillery battalion, likely in support of an effort to strengthen degraded DNR forces ahead of an imminent Russian offensive. A Russian source published a video appeal from mobilized personnel of the 640th howitzer battalion from Saratov Oblast on February 8 in which they stated that Russian military officials sent them to join DNR units and that DNR commanders are now trying to transfer them to infantry assault units.[7] ISW has not previously observed Russian personnel subordinated to a DNR formation and this claim, if true, would suggest that Russian forces may be reinforcing degraded DNR formations with mobilized personnel from Russia itself because DNR formations are unable to replenish losses themselves. The reported subordination of Russian military personnel to DNR formations may portend a Russian effort to prepare DNR formations for an expanded role in their zone of responsibility along the western outskirts of Donetsk City, and the transfer of remaining conventional Russian forces from this area to the Bakhmut area and Luhansk Oblast, where Russian forces are conducting an increased pace of offensive operations.\\n\\nThe reported subordination of Russian mobilized personnel to DNR formations could also suggest that Russian military command may be continuing efforts to integrate ad hoc DNR and Luhansk People‘s Republic (LNR) formations into the Russian Armed Forces, but will likely face significant difficulties. The Russian Southern Military District formally controls the armed forces of the DNR and LNR through the 1st and 2nd Army Corps, respectively. However, many DNR and LNR formations remain ad hoc units and are not fully integrated into Russian MoD structures. ISW previously assessed that the Russian Ministry of Defense (MoD) appears to be rushing to integrate irregular conventional forces into a more traditional structure and may be creating new formations from DNR/LNR units in support of Russian Defense Minister Sergei Shoigu’s proposals to create new maneuver divisions.[8] Russian forces would likely need to temporarily remove these irregular forces from frontline positions to integrate them into new Russian formations, a prospect that would not be operationally sound ahead of increased Russan offensive operations in Ukraine. Russian officials therefore may be attempting to gradually integrate these irregular formations through subordinating mobilized personnel under them without disrupting the command structures and existing personnel operating at front line positions. The mobilized personnel of the 640th howitzer battalion claimed that DNR command is retraining assault units for artillery purposes yet still committing their artillery battalion to infantry roles, indicating a breakdown in command and the proper utilization of personnel among DNR formations.[9] The Russian MoD will likely struggle to correct the poor effectiveness of DNR/LNR forces through the rapid integration of Russian personnel.\\n\\nRussian officials continue to propose measures to prepare Russia’s military industry for a protracted war in Ukraine while also likely setting further conditions for sanctions evasion. Russian Prime Minister Mikhail Mishustin stated on February 8 that the Russian government will subsidize investment projects for the modernization of enterprises operating in the interests of the Russian military and will allocate significant funds for manufacturing new military equipment.[10] Mishustin also stated that the Russian government would extend benefits to Russian entrepreneurs who support the Russian military, including extended payment periods on rented federal property.[11] The Kremlin likely intends these measures to augment its overarching effort to gradually prepare Russia’s military industry for a protracted war in Ukraine while avoiding a wider economic mobilization that would create further domestic economic disruptions and corresponding discontent.[12]\\n\\nRussian officials also likely proposed these measures in coordination with a recent decree excluding Russian officials from requirements to list income declarations and proposals to repeal federal procurement procedures. The Kremlin may be creating a system of subsidies and benefits designed to have little oversight or accounting. This lack of oversight and accounting would likely allow Russian firms to better evade international sanctions regimes targeting Russia’s military industry.[13] The United Kingdom announced a new list of sanctioned entities on February 8 focused on Russia’s military industry.[14] ISW previously reported that 82% of Iranian-made drones downed in Ukraine had chips, semiconductors, and other components from the United States, suggesting that Russia and Iran are likely exploiting loopholes to transfer Western-produced arms components to Russia via proxy actors.[15] The Kremlin’s effort to prepare the Russian military industry for a protracted war in Ukraine in part relies on the ability of Russian military industry to have consistent access to multiple secure supply chains of key foreign components that it otherwise cannot produce.\\n\\nKey Takeaways\\n\\nRussian forces have regained the initiative in Ukraine and have begun their next major offensive in Luhansk Oblast.\\n\\nThe commitment of significant elements of at least three major Russian divisions to offensive operations in this sector indicates the Russian offensive has begun, even if Ukrainian forces are so far preventing Russian forces from securing significant gains.\\n\\nDonetsk People’s Republic (DNR) People’s Militia command reportedly assumed control over a Russian artillery battalion, likely in support of an effort to strengthen degraded DNR forces ahead of an imminent Russian offensive.\\n\\nThe reported subordination of Russian mobilized personnel to DNR formations could also suggest that Russian military command may be continuing efforts to integrate ad hoc DNR and Luhansk People‘s Republic (LNR) formations into the Russian Armed Forces, but will likely face significant difficulties.\\n\\nRussian officials continue to propose measures to prepare Russia’s military industry for a protracted war in Ukraine while also likely setting further conditions for sanctions evasion.\\n\\nRussian forces conducted ground attacks around Bakhmut and continued making tactical advances.\\n\\nRussian forces continued offensive actions northwest of Svatove and intensified offensive operations near Kreminna.\\n\\nRussian forces conducted limited ground attacks in the Avdiivka-Donetsk City area and western Donetsk Oblast.\\n\\nRussian and Ukrainian forces reportedly continue small-scale skirmishes and reconnaissance activity in the Dnipro River delta and on the Kinburn Spit.\\n\\nThe Wagner Group is reportedly resorting to more coercive tactics in its prison recruitment campaign, possibly in response to the campaign’s declining effectiveness.\\n\\nWe do not report in detail on Russian war crimes because those activities are well-covered in Western media and do not directly affect the military operations we are assessing and forecasting. We will continue to evaluate and report on the effects of these criminal activities on the Ukrainian military and population and specifically on combat in Ukrainian urban areas. We utterly condemn these Russian violations of the laws of armed conflict, Geneva Conventions, and humanity even though we do not describe them in these reports.\\n\\nUkrainian Counteroffensives—Eastern Ukraine\\n\\nRussian Main Effort—Eastern Ukraine (comprised of two subordinate main efforts);\\n\\nRussia Subordinate Main Effort #1—Capture the remainder of Luhansk Oblast and push westward into eastern Kharkiv Oblast and encircle northern Donetsk Oblast\\n\\nRussian Subordinate Main Effort #2—Capture the entirety of Donetsk Oblast\\n\\nRussian Supporting Effort—Southern Axis\\n\\nRussian Mobilization and Force Generation Efforts\\n\\nActivities in Russian-occupied Areas\\n\\nRussian Main Effort—Eastern Ukraine\\n\\nRussian Subordinate Main Effort #1- Luhansk Oblast (Russian objective: Capture the remainder of Luhansk Oblast and continue offensive operations into eastern Kharkiv Oblast and northern Donetsk Oblast)\\n\\nISW continues to assess the current Russian most likely course of action (MLCOA) is an imminent offensive effort in Luhansk Oblast and is therefore adjusting the structure of the daily campaign assessments. We will no longer include the Eastern Kharkiv and Western Luhansk Oblast area as part of Ukrainian counteroffensives and will assess this area as a subordinate part of the Russian main effort in Eastern Ukraine. The assessment of Luhansk Oblast as part of the Russian main effort does not preclude the possibility of continued Ukrainian counteroffensive actions here or anywhere else in theater in the future. ISW will report out on Ukrainian counteroffensive efforts as they occur.\\n\\nRussian forces continued offensive actions northwest of Svatove on February 8. Kharkiv Oblast Head Oleh Synehubov reported on February 8 that Russian forces are increasing their presence northwest of Svatove in the Kupyansk and Dvorichna areas.[16] A former Luhansk People‘s Republic (LNR) deputy claimed that fierce fighting is ongoing 7km from the Kupyansk area, likely referring to areas near Synkivka, which Russian sources claimed Russian forces captured on February 6.[17] The Ukrainian General Staff reported that Russian forces conducted a limited ground attack near Novoselivske, about 15km northwest of Svatove.[18] Former Russian militant commander and nationalist milblogger Igor Girkin denied that Russian forces have made any significant territorial gains in Kharkiv Oblast, particularly in the Kupyansk direction, as of February 8.[19]\\n\\nRussian forces also reportedly intensified offensive operations in the Kreminna area. Luhansk Oblast Head Serhiy Haidai stated on February 8 that there has been a ”maximum escalation” in the Kreminna direction and that Russian forces are attempting to break through Ukrainian defenses in this area.[20] The Ukrainian General Staff reported that Russian forces attacked near Chervonopopivka (5km north of Kreminna).[21] Several Russian milbloggers circulated unconfirmed footage of unspecified Central and Western Military District elements which crossed the Zherebets River running north to south in western Luhansk Oblast, roughly parallel to the Svatove-Kreminna line) and captured Ukrainian positions in an unspecified location around February 6.[22] Russian sources also reported that elements of the 3rd Motor Rifle Division (20th Combined Arms Army, Western Military District) are approaching the Zherebets River and are threatening Ukrainian positions in the area.[23] A prominent Russian milblogger posted footage of the 59th Tank Regiment of the 144th Motor Rifle Division (20th Combined Arms Army, Western Military District) attacking towards Torske (13km west of Kreminna) and claimed the unit pushed Ukrainian forces back to secondary lines of defense.[24]\\n\\nRussian forces continued offensive operations south of Kreminna on February 8. The Ukrainian General Staff reported Russian troops attacked near Shepilove (7km south of Kreminna) and Bilohorivka (10km south of Kreminna).[25] Chechen Head Ramzan Kadyrov claimed that elements of the Chechen ”Akhmat” special forces and 2nd Brigade of the Luhansk People’s Republic 2nd Army Corps captured Ukrainian positions near Berestove, 30km south of Kreminna.[26] Russian forces appear to be pushing northeast of the Bakhmut area towards Siversk (17km southwest of Kreminna) to provide a supporting line of advance to the likely main Russian push directly westward toward Kreminna.\\n\\nRussian Subordinate Main Effort #2—Donetsk Oblast (Russian objective: Capture the entirety of Donetsk Oblast, the claimed territory of Russia’s proxies in Donbas)\\n\\nRussian forces conducted ground attacks around Bakhmut and continued making tactical advances on February 8. Geolocated footage posted between February 4 and 8 confirms that Russian forces have made marginal advances north of Bakhmut near Krasna Hora and Zaliznyanske (10km north of Bakhmut), in the Stupky area of northern Bakhmut, and southwest of Bakhmut near Ivanivske.[27] Russian forces are visually confirmed to be within 2.5 km of the E40 Bakhmut-Slovyansk highway.[28] The Ukrainian General Staff also reported that Ukrainian troops repelled Russian attacks on Bakhmut itself; northeast of Bakhmut near Verkhnokamyanske (30km northeast), Fedorivka (15km northeast), Spirne (27km northeast), and Vymika (20km northeast); north of Bakhmut near Paraskoviivka (5km north) and Krasna Hora (4km north); northwest of Bakhmut near Orikhovo-Vasylivka (12km northwest) and Dubovo-Vasylivka (7km northwest); and west of Bakhmut near Ivanivske (5km west) and Chasiv Yar (10km west).[29] The Ukrainian General Staff’s report that Russian forces are attacking towards Orikhovo-Vasylivka and Dubovo-Vasylivka is consistent with geolocated combat footage and indicates that Russian forces seek to encircle Bakhmut by cutting off Ukrainian forces’ access to the E40. Similarly, the report of a Russian attack on Chasiv Yar indicates that Russian forces have likely advanced closer to the T0504 Kostyantynivka-Chasiv Yar-Bakhmut highway southwest of Bakhmut. Russian sources claimed that Wagner Group fighters took control of Krasna Hora and are fighting northeast of Bakhmut.[30] Russian milbloggers also claimed that Wagner Group forces established fire control over a section of the T0504 highway between Stupochky and Ivanivske.[31]\\n\\nRussian forces conducted limited ground attacks in the Avdiivka-Donetsk City area on February 8. The Ukrainian General Staff reported that Ukrainian forces repelled Russian assaults near Avdiivka, north of Avdiivka near Kamianka, and along the western outskirts of Donetsk City near Vodyane, Pervomaiske, and Krasnohorivka.[32] Former Russian officer and prominent milblogger Igor Girkin claimed that Russian forces did not advance near Avdiivka and took heavy losses.[33] Another milblogger claimed that fighting is ongoing in western Marinka (on the southwestern outskirts of Donetsk City) and that unspecified elements of the Southern Military District (SMD) advanced through urban areas of Marinka on February 8.[34] The milblogger also stated that Russian forces were able to gain a foothold in positions near a tire repair plant in Marinka.[35] Videos posted by milbloggers on February 8 reportedly show SMD tank units attacking a Ukrainian position in Marinka and Russian tanks operating in western Marinka.[36] Former Deputy LNR Interior Minister Vitaly Kiselev posted a video on February 8 purportedly showing Russian elements of the 150th Motorized Rifle Division (8th Combined Arms Army, SMD) attacking Marinka and claimed that Russian forces had cleared all Ukrainian fortifications there.[37] The deployment of valuable Russian conventional military units (as opposed to DNR proxy forces) in the area is notable, if confirmed. Girkin, however, claimed that the situation in Marinka has not changed and continues at a sluggish pace.[38]\\n\\nRussian forces conducted a limited ground attack in western Donetsk Oblast on February 8. The Ukrainian General Staff reported that Ukrainian forces repelled Russian assaults near Bohoyavlenka (25km southwest of Donetsk City).[39] Russian sources made conflicting claims about the status of operations in this area. One milblogger claimed that fierce fighting is ongoing near Vuhledar (30km southwest of Donetsk City), while other milbloggers stated that there is no active fighting in the area.[40] Girkin claimed that Ukrainian forces repelled Russian assaults near Vuhledar and inflicted heavy losses.[41] Odesa Military Administration Spokesman Serhiy Bratchuk shared a video on February 8 of Ukrainian forces attacking and halting a disorganized Russian mechanized column near Vuhledar.[42]\\n\\nSupporting Effort—Southern Axis (Russian objective: Maintain frontline positions and secure rear areas against Ukrainian strikes)\\n\\nRussian and Ukrainian forces reportedly continued small scale skirmishes and reconnaissance activity in the Dnipro River delta and on the Kinburn Spit on February 8. The United Kingdom Ministry of Defense (UK MoD) reported that Russian forces are using small boats to try to maintain a presence on islands in the Dnipro River delta south of Kherson City and that Ukrainian forces have deployed long-range artillery to strike several Russian outposts on the islands.[43] The UK MoD reported that Russian and Ukrainian forces have likely deployed small groups on the Kinburn Spit in Mykolaiv Oblast, aiming to control the Dnipro Gulf.[44] Ukraine’s Southern Operational Command Spokesperson Natalia Humenyuk previously stated that Russian forces are increasing the number of reconnaissance and sabotage attempts in the area of the Dnipro River delta as part of an information operation to create a perceived threat against Kherson City.[45]\\n\\nRussian forces continue to construct defensive fortifications in Zaporizhia Oblast. Satellite imagery collected between January 26 and February 7 shows Russian forces expanding trench and field fortifications near Tarasivka, Zaporizhia Oblast.[46] Russian forces likely constructed these fortifications to further strengthen Russian positions along the T0401 highway between Polohy and Tokmak. Russian forces are likely establishing long defensive lines along critical grounds lines of communication (GLOCs) in Zaporizhia Oblast in preparation to defend against possible future Ukrainian counteroffensive operations along the Zaporizhia frontline. However, ISW has not observed Russian forces constructing defenses intended to halt a cross-country Ukrainian attack on a large front, and defensive positions remain limited to main roads.\\n\\nRussian forces continued routine fire west of Hulyaipole and in Dnipropetrovsk, Kherson, and Mykolaiv Oblasts on February 8.[47] Ukrainian sources reported that Russian forces struck Kherson City and in the vicinity of Ochakiv, Mykolaiv Oblast.[48]\\n\\nMobilization and Force Generation Efforts (Russian objective: Expand combat power without conducting general mobilization)\\n\\nRussian officials continued attempts to extend social benefits held by regular Russian servicemembers to volunteer formations serving in Ukraine. Russian Prime Minister Mikhail Mishustin stated on February 8 that the Russian government has prepared new measures to support volunteers, including increasing pensions and social assistance payments related to injuries and disabilities.[49] The Russian State Duma is reportedly drafting a bill to include provisions against discrediting volunteer detachments assisting the Russian military in Ukraine, as Wagner Group Financier Yevgeny Prigozhin previously demanded.[50] The Kremlin is likely pursuing efforts to more formally recognize volunteer formations in order to mitigate continued criticism of the Russian Ministry of Defense (MoD) over the unclear status of volunteer formations.[51]\\n\\nThe Wagner Group is reportedly resorting to more coercive tactics in its campaign to recruit prisoners, possibly in response to declining numbers of recruits since autumn 2022. Independent Russian outlet Agentstvo reported on February 8 that Russian lawyers and human rights activists stated that Wagner Group representatives and Russian Ministry of Internal Affairs and Federal Security Service (FSB) officials are threatening prisoners in Samara and Rostov oblasts, Krasnodar Krai, and the North Caucasus with new criminal cases if they refuse to volunteer with the Wagner Group in Ukraine.[52] One of the lawyers reportedly stated that fewer convicts have agreed to volunteer with the Wagner Group in an unspecified recent period because of information about its high casualties, supporting ISW’s previous assessment that Russian convicts’ resistance may have caused a decline in the Wagner Group’s prison recruitment campaign.[53] The Wagner Group will likely continue these more coercive practices as it seeks to replenish its forces in Ukraine with more convict recruits following months of highly attritional human wave attacks in eastern Ukraine.\\n\\nRussian officials continue to promote incremental efforts to fix longstanding personnel issues associated with mobilization. Russian Deputy Chairman of the Federation Council (and head of the mobilization working group) Andrey Turchak claimed that the mobilization working group has received appeals from 22,000 Russian servicemembers and their family members since holding its first meeting on December 29, 2022, addressing issues like the incorrect accrual of payments and the wrongful mobilization of fathers with many children who should be exempt.[54] Turchak stated that the working group has heavily focused on solving poor recordkeeping issues through efforts to digitize military registration information from military recruitment offices.[55] Turchak claimed that the working group sent a report to Russian President Vladimir Putin with recommendations to establish comprehensive rehabilitation centers, a minimum set of measures to support family members, a reduced term for recognizing a Russian soldier as missing, and a guarantee for receiving pensions.[56] These proposals and efforts are likely meant primarily to placate ultranationalist figures that criticized the numerous issues associated with mobilization and hedge against further domestic discontent ahead of a likely second wave of mobilization.\\n\\nActivity in Russian-occupied Areas (Russian objective: consolidate administrative control of and annexed areas; forcibly integrate Ukrainian civilians into Russian sociocultural, economic, military, and governance systems)\\n\\nRussian occupation authorities are continuing efforts to increase connectivity between Russia and southern Ukraine. Kherson Occupation Head Vladimir Saldo claimed on February 8 that Russian occupation authorities have approved design and research works on a new highway that will run from Crimea, north of the Sea of Azov, to Rostov-on-Don, Russia.[57] Saldo also claimed that the construction of a new town in the Arabat Spit in northeast Crimea has begun.[58] ISW has previously assessed that Russian occupation authorities likely seek to increase the population in the deep rear of occupied territories to strengthen production capabilities and support logistics related to Russia’s invasion of Ukraine.[59]\\n\\nRussian occupation authorities continue to lean on patronage-like partnerships with Russian federal subjects to restore infrastructure in occupied territories. Donetsk People’s Republic (DNR) Head Denis Pushilin claimed on February 8 that he held a meeting with Sakhalin Oblast Governor Valery Limarenko in which they discussed Sakhalin Oblast’s plans to help repair kindergartens, stadiums, schools, and playgrounds in occupied Shakhtarsk, Donetsk Oblast.[60] Luhansk People’s Republic (LNR) Head Leonid Pasechnik held a meeting with Voronezh Oblast Governor Aleksandr Gusev on February 8 during which Gusev claimed that Voronezh Oblast hopes to develop occupied Luhansk Oblast to not only extract raw materials, but also to develop a processing industry.[61] Gusev claimed that Voronezh Oblast will double the amount of aid it previously provided occupied Luhansk Oblast in 2022 to bring living standards in occupied Luhansk Oblast to those of Russia’s “national” level.[62]\\n\\nSignificant activity in Belarus (ISW assesses that a Russian or Belarusian attack into northern Ukraine in early 2023 is extraordinarily unlikely and has thus restructured this section of the update. It will no longer include counter-indicators for such an offensive.\\n\\nISW will continue to report daily observed Russian and Belarusian military activity in Belarus, but these are not indicators that Russian and Belarusian forces are preparing for an imminent attack on Ukraine from Belarus. ISW will revise this text and its assessment if it observes any unambiguous indicators that Russia or Belarus is preparing to attack northern Ukraine.)\\n\\nBelarusian airborne forces may be conducting tactical force-on-force exercises with Russian airborne elements in Belarus. The Belarusian Ministry of Defense announced on February 8 that unspecified airborne infantry companies — likely of the Belarusian 38th Air Assault Brigade — conducted a force-on-force company tactical exercise at the Brest Training Ground, emphasizing using unmanned aerial vehicles, urban warfare, small unit tactics, and tactical medicine.[63] It is unclear if Russian airborne forces participated in this exercise. The Belarusian 38th Air Assault Brigade has historically conducted joint exercises with elements of the Russian 76th Air Assault Division, 106th Airborne Division, and the 31st Air Assault Brigade - all units that have taken casualties in Ukraine and require regeneration.[64]\\n\\nBelarusian maneuver elements continue conducting exercises in Belarus. Unspecified elements of the Belarusian 19th Separate Guards Mechanized Brigade conducted tactical readiness exercises at the Lepelsky Training Ground in Vitebsk Oblast, Belarus, on February 8.[65]\\n\\nNote: ISW does not receive any classified material from any source, uses only publicly available information, and draws extensively on Russian, Ukrainian, and Western reporting and social media as well as commercially available satellite imagery and other geospatial data as the basis for these reports. References to all sources used are provided in the endnotes of each update.\\n\\n[1] https://isw.pub/UkrWar020623; https://isw.pub/UkrWar020423; https://isw.pub/UkrWar020223\\n\\n[2] https://t.me/DeepStateUA/15451\\n\\n[3] https://www.understandingwar.org/backgrounder/russian-offensive-campaign-assessment-january-25-2023\\n\\n[4] https://t.me/rybar/43387; https://t.me/notes_veterans/7845; https://t.me/russkiy_opolchenec/35783; https://t.me/RVvoenkor/37711; https://t.me/wargonzo/10782; https://t.me/vysokygovorit/10725; https://t.me/vysokygovorit/10704; https://t.me/vysokygovorit/10706; https://t.me/vysokygovorit/10703; https://t.me/wargonzo/10726; https://t.me/kommunist/15515; https://t.me/rybar/43256; https://t.me/rybar/43257; https://t.me/dva_majors/8678; https://t.me/rybar/43256; https://t.me/vysokygovorit/10684; https://t.me/rybar/43220; https://t.me/rybar/43218; https://t.me/wargonzo/10658; https://t.me/rybar/43197; https://t.me/boris_rozhin/76787; https://t.me/Z4LPR/445; https://t.me/m0sc0wcalling/18752; https://t.me/komdiv_76/311; https://t.me/harry_homolsky/3185\\n\\n[5]https://www.understandingwar.org/sites/default/files/Russian%20Operations%20Assessments%20January%2027%202023.pdf\\n\\n[6] https://www.understandingwar.org/backgrounder/russian-offensive-campaign-assessment-january-15-2023\\n\\n[7] https://t.me/ostorozhno_novosti/14167\\n\\n[8] https://isw.pub/UkrWar020323 ; https://isw.pub/UkrWar020423\\n\\n[9] https://t.me/ostorozhno_novosti/14167\\n\\n[10] https://podolyaka dot ru/2023/02/08/zayavleniya-premer-ministra-rf-mihaila-mishustina-o-podderzhke-uchastnikov-svo-i-voennoy-promyshlennosti/; https://stolica-s dot su/archives/366231; https://t.me/rybar/43402\\n\\n[11] https://podolyaka dot ru/2023/02/08/zayavleniya-premer-ministra-rf-mihaila-mishustina-o-podderzhke-uchastnikov-svo-i-voennoy-promyshlennosti/; https://stolica-s dot su/archives/366231; https://t.me/rybar/43402\\n\\n[12] https://isw.pub/UkrWar011823 ; https://isw.pub/UkrWar010723 ;\\n\\n[13] https://isw.pub/UkrWar020623 ; https://isw.pub/UkrWar020123\\n\\n[14] https://www.gov.uk/government/news/new-sanctions-target-putins-war-machine-and-financial-networks-as-uk-accelerates-economic-pressure-on-russia\\n\\n[15] https://www.cbsnews.com/news/ukraine-war-russia-iranian-drones-us-made-technology-chips/ ; https://isw.pub/UkrWar020623\\n\\n[16] https://suspilne dot media/amp/378863-de-okupanti-posiluut-prisutnist-na-harkivsini-dani-sinegubova/\\n\\n[17] https://t.me/kommunist/15598; https://understandingwar.org/backgrounder/russian-offensive-campaign-assessment-february-6-2023\\n\\n[18]https://www.facebook.com/GeneralStaff.ua/posts/pfbid0FuH223o7wLNSiJSNdCXigpCmwEnYbhGorMX4DoRP98heCwqkGax2jw7LAfJod8mgl\\n\\n[19] https://t.me/strelkovii/3896\\n\\n[20] https://t.me/luhanskaVTSA/8438\\n\\n[21]https://www.facebook.com/GeneralStaff.ua/posts/pfbid0FuH223o7wLNSiJSNdCXigpCmwEnYbhGorMX4DoRP98heCwqkGax2jw7LAfJod8mgl\\n\\n[22] https://t.me/russkiy_opolchenec/35783; https://t.me/RVvoenkor/37711\\n\\n[23] https://t.me/rybar/43387; https://t.me/notes_veterans/7845\\n\\n[24] https://t.me/wargonzo/10782\\n\\n[25]https://www.facebook.com/GeneralStaff.ua/posts/pfbid0FuH223o7wLNSiJSNdCXigpCmwEnYbhGorMX4DoRP98heCwqkGax2jw7LAfJod8mgl\\n\\n[26] https://t.me/RKadyrov_95/3332\\n\\n[27] https://twitter.com/fdov21/status/1623368452667805701 https://twitter.com/SerDer_Daniels/status/1623295739890630657; https://twitter.com/Danspiun/status/1623303270818099201?s=20&t=dFNgqVX3P81R1i8OQuwLZw ; https://t.me/robert_magyar/395; https://twitter.com/fdov21/status/1623057869531930625; https://t.co/wEDQ0B9F87; https://twitter.com/fdov21/status/1623061121602326529; https://twitter.com/fdov21/status/1623061382236364801; https://twitter.com/markito0171/status/1623244962547523584?s=20&t=lEnfKjMnZ998yWB2p1jKNA ; https://twitter.com/klinger66/status/1623253238790103045?s=20&t=lEnfKjMnZ998yWB2p1jKNA ; https://twitter.com/Danspiun/status/1623295104675979265?s=20&t=dFNgqVX3P81R1i8OQuwLZw ; https://t.me/robert_magyar/395; https://twitter.com/Militarylandnet/status/1623071883988987905; https://twitter.com/EerikMatero/status/1623076900548517892; https://twitter.com/neonhandrail/status/1623206937134497792; https://twitter.com/neonhandrail/status/1623207358888558593; https://twitter.com/Danspiun/status/1623043663948353555?s=20&t=dFNgqVX3P81R1i8OQuwLZw ; https://twitter.com/fdov21/status/1623040283284803600?s=20&t=HVv88K5i2qgFV-j_t-kI7g ; https://twitter.com/fdov21/status/1623040286011101211?s=20&t=HVv88K5i2qgFV-j_t-kI7g ; https://t.me/robert_magyar/392\\n\\n[28] https://twitter.com/Militarylandnet/status/1623071883988987905; https://twitter.com/EerikMatero/status/1623076900548517892; https://twitter.com/neonhandrail/status/1623206937134497792; https://twitter.com/neonhandrail/status/1623207358888558593\\n\\n[29]https://www.facebook.com/GeneralStaff.ua/posts/pfbid0FuH223o7wLNSiJSNdCXigpCmwEnYbhGorMX4DoRP98heCwqkGax2jw7LAfJod8mgl\\n\\n[30] https://t.me/wargonzo/10773; https://t.me/strelkovii/3896\\n\\n[31] https://t.me/DonbassYasinovatayanaliniiOgnia/36445; https://t.me/NeoficialniyBeZsonoV/22062; https://t.me/wargonzo/10773; https://t.me/strelkovii/3896\\n\\n[32]https://www.facebook.com/GeneralStaff.ua/posts/pfbid0FuH223o7wLNSiJSNdCXigpCmwEnYbhGorMX4DoRP98heCwqkGax2jw7LAfJod8mgl\\n\\n[33] https://t.me/strelkovii/3896\\n\\n[34] https://t.me/rybar/43405\\n\\n[35] https://t.me/rybar/43405\\n\\n[36] https://t.me/boris_rozhin/77568; https://t.me/sashakots/38439\\n\\n[37] https://t.me/kommunist/15635\\n\\n[38] https://t.me/strelkovii/3896\\n\\n[39]https://www.facebook.com/GeneralStaff.ua/posts/pfbid0FuH223o7wLNSiJSNdCXigpCmwEnYbhGorMX4DoRP98heCwqkGax2jw7LAfJod8mgl\\n\\n[40] https://t.me/boris_rozhin/77574; https://t.me/wargonzo/10773\\n\\n[41] https://t.me/strelkovii/3896\\n\\n[42] https://t.me/Bratchuk_Sergey/29230\\n\\n[43] https://twitter.com/DefenceHQ/status/1623199796352745475/photo/1\\n\\n[44] https://twitter.com/DefenceHQ/status/1623199796352745475/photo/1\\n\\n[45] https://armyinform dot com.ua/2023/02/01/zbilshennya-kilkosti-rozviduvalnyh-grup-voroga-v-gyrli-dnipra-mozhe-buty-oznakoyu-nagnitannya-sytuacziyi-gumenyuk/\\n\\n[46] https://twitter.com/bradyafr/status/1623082928283746304?s=20&t=ETx-WeYabYcAhBWPxEz2BA\\n\\n[47] https://t.me/mykolaivskaODA/4236 ; https://www.facebook.com/GeneralStaff.ua/posts/pfbid0FuH223o7wLNSiJSNdCXigpCmwEnYbhGorMX4DoRP98heCwqkGax2jw7LAfJod8mgl ; https://www.facebook.com/GeneralStaff.ua/posts/pfbid02kL8XZwXNsSUphpcF5SAsVUR92f3mJJevFsSWvEZnRJsXKEr7LQzhWmWxXFubauUml ; https://t.me/khersonskaODA/3607 ; https://t.me/khersonskaODA/3616; https://t.me/khersonskaODA/3613; https://t.me/khersonskaODA/3615 ; https://www.facebook.com/sergey.khlan/posts/pfbid02L4QqnKMLM3QLzY1pvQrr5CxtPVxrEu55qdBouZ7dB3jqdrfGhBHuXQyW5tavq4d3l ; https://t.me/mykolaivskaODA/4236 ; https://t.me/zoda_gov_ua/16505 ; https://t.me/vilkul/2680 ; https://t.me/Yevtushenko_E/2419\\n\\n[48] https://t.me/mykolaivskaODA/4236 ; https://www.facebook.com/GeneralStaff.ua/posts/pfbid0FuH223o7wLNSiJSNdCXigpCmwEnYbhGorMX4DoRP98heCwqkGax2jw7LAfJod8mgl ; https://www.facebook.com/GeneralStaff.ua/posts/pfbid02kL8XZwXNsSUphpcF5SAsVUR92f3mJJevFsSWvEZnRJsXKEr7LQzhWmWxXFubauUml ; https://t.me/khersonskaODA/3607\\n\\n[49] https://podolyaka dot ru/2023/02/08/zayavleniya-premer-ministra-rf-mihaila-mishustina-o-podderzhke-uchastnikov-svo-i-voennoy-promyshlennosti/; https://stolica-s dot su/archives/366231; https://t.me/rybar/43402\\n\\n[50] https://isw.pub/UkrWar020723; https://t.me/concordgroup_official/425; https://t.me/Prigozhin_hat/2612\\n\\n[51] https://www.understandingwar.org/backgrounder/russian-offensive-campaign-assessment-february-1-2023\\n\\n[52] https://t.me/agentstvonews/2482\\n\\n[53] https://t.me/agentstvonews/2482 ; https://isw.pub/UkrWar020123\\n\\n[54] https://t.me/turchak_andrey/1032 ; https://isw.pub/UkrWar122922\\n\\n[55] https://t.me/turchak_andrey/1032\\n\\n[56] https://t.me/turchak_andrey/1032\\n\\n[57] https://t.me/SALDO_VGA/363; https://t.me/SALDO_VGA/365\\n\\n[58] https://t.me/SALDO_VGA/363; https://t.me/SALDO_VGA/365\\n\\n[59] https://www.understandingwar.org/backgrounder/russian-offensive-campaign-assessment-january-5-2023\\n\\n[60] https://t.me/pushilindenis/3165\\n\\n[61] https://t.me/glava_lnr_info/745; https://t.me/glava_lnr_info/748\\n\\n[62] https://t.me/glava_lnr_info/745; https://t.me/glava_lnr_info/748\\n\\n[63] https://t.me/modmilby/22455; https://t.me/modmilby/22419\\n\\n[64] https://www.osw.waw.pl/sites/default/files/OSW-Report_Russia%E2%80%99s-Belarusian-army_net.pdf\\n\\n[65] https://t.me/modmilby/22470\\n\\nTags\\n\\nUkraine Project\\n\\nFile Attachments:\\n\\nZaporizhia Battle Map Draft February 08,2023.png\\n\\nKherson-Mykolaiv Battle Map Draft February 08,2023.png\\n\\nDonetsk Battle Map Draft February 08,2023.png\\n\\nDraftUkraineCoTFebruary08,2023.png\\n\\nKharkiv Battle Map Draft February 08,2023.png\\n\\n1400 16th Street NW, Suite 515 Washington, DC 20036 ph (202) 293-5550 ©2007 – 2024 THE INSTITUTE FOR THE STUDY OF WAR')"
      ]
     },
     "execution_count": 29,
     "metadata": {},
     "output_type": "execute_result"
    }
   ],
   "source": [
    "loader = UnstructuredURLLoader(urls=urls)\n",
    "\n",
    "data = loader.load()\n",
    "\n",
    "data[0]"
   ]
  },
  {
   "cell_type": "code",
   "execution_count": 33,
   "id": "98c9bdcc-4f0a-4f15-b1ac-c804758713f3",
   "metadata": {},
   "outputs": [
    {
     "name": "stdout",
     "output_type": "stream",
     "text": [
      "[Document(metadata={'source': 'sample1.html'}, page_content='Lorem ipsum dolor, sit amet consectetur adipisicing elit. Quaerat quo corrupti unde aliquam magnam, maxime labore eos omnis possimus autem similique quae, quia nam, molestiae aperiam ratione est ut repellendus?\\n\\nLorem ipsum dolor, sit amet consectetur adipisicing elit. Quaerat quo corrupti unde aliquam magnam, maxime labore eos omnis possimus autem similique quae, quia nam, molestiae aperiam ratione est ut repellendus?')]\n"
     ]
    }
   ],
   "source": [
    "from langchain_community.document_loaders import UnstructuredHTMLLoader\n",
    "file_path = \"sample1.html\"\n",
    "loader = UnstructuredHTMLLoader(file_path)\n",
    "data = loader.load()\n",
    "\n",
    "print(data)"
   ]
  },
  {
   "cell_type": "code",
   "execution_count": 39,
   "id": "e6132fc8-caa1-4004-95c9-80c4dbc522b5",
   "metadata": {},
   "outputs": [
    {
     "data": {
      "text/plain": [
       "Document(metadata={'source': 'README.md', 'category_depth': 0, 'last_modified': '2024-08-25T21:18:55', 'languages': ['eng'], 'filetype': 'text/markdown', 'filename': 'README.md', 'category': 'Title', 'element_id': 'bd59907e3f683a1ca004dda79a1b2118'}, page_content='Tutorial for langchain LLM library')"
      ]
     },
     "execution_count": 39,
     "metadata": {},
     "output_type": "execute_result"
    }
   ],
   "source": [
    "from langchain_community.document_loaders import UnstructuredMarkdownLoader\n",
    "loader = UnstructuredMarkdownLoader('README.md',mode=\"elements\", strategy=\"fast\",)\n",
    "documents = loader.load()\n",
    "documents[0]"
   ]
  },
  {
   "cell_type": "code",
   "execution_count": 42,
   "id": "cc33b289-1f9a-4caa-afb7-652e3f7209ef",
   "metadata": {},
   "outputs": [
    {
     "data": {
      "text/plain": [
       "[Document(metadata={'source': 'AI Era.docx'}, page_content=\"Managing email conversations efficiently is crucial for productivity and communication in this digital and AI era. However, with the volume of emails we receive daily, manually reading and processing them can be overwhelming and time-consuming. If we can summarize the email responses, it becomes easy and efficient for the management to make required business decisions. This blog will explore how to leverage the power of ETL (Extract, Transform, Load) in conjunction with LLM (Language Model) supported Data Pipelines in Python to create automated and accurate email conversation summaries, streamlining your workflow and saving valuable time.\\n\\nThe Challenge of Growing Email Threads\\n\\nEmail threads are common occurrences in professional and personal communication. As conversations progress, the amount of content shared within the thread can grow rapidly. This can lead to difficulties in identifying the main reply and differentiating between responses within the thread. Here is where Natural Language Processing (NLP) and Language Models (LM) come into play to overcome this challenge effectively. \\n\\n\\n\\nSetting Up the Data Pipeline\\n\\nTo start, we'll establish a data pipeline that handles the ETL process for email conversations. Each email received is piped to a single service responsible for Extracting the email content, Transforming it to identify replies and relationship between emails, and Loading it into a structured format that stores the conversation threads.\\n\\nStage 1: Extracting Email Replies\\n\\nThe first stage of the pipeline focuses on extracting the actual replies from each email within the thread. Utilizing NLP and LM techniques, we can analyze the email content to identify the main reply on top and any responses within the thread. This process ensures that the email conversation is organized and ready for further summarization.\\n\\nStage 2: Cleaning the Content\\n\\nEmails often consist of HTML formatting, images, and hyperlinks. To prepare the content for summarization using language models, we need to remove all these non-text elements. Cleaning the content ensures that the language model focuses solely on the textual information, resulting in more accurate and concise summaries.\\n\\nStage 3: Storing Processed Content in MD Format\\n\\nTo facilitate the summarization process, the processed content is stored in Markdown (MD) format. Markdown provides a structured and readable format that helps in prompting and presenting the final summaries effectively.\\n\\n\\n\\nLeveraging LangChain for Summarization\\n\\nLangChain is a powerful Large Language Model (LLM) framework that simplifies the use of language models for various tasks, including email summarization. With LangChain, you can use multiple language models simultaneously to achieve better results and improve the accuracy of the summaries.\\n\\n\\n\\nHandling Input Limitations with Chunking Prompts\\n\\nSome language models may have input limitations, where the length of the input text they can process is restricted. To overcome this limitation, the pipeline implements several strategies for chunking prompts. By breaking down the input text into smaller segments, the language model can process the entire email conversation without losing context or crucial information.\\n\\n\\n\\nSummarizing emails responses via ETL with LLM Supported Data Pipelines using Python significantly improves productivity and communication efficiency. By applying NLP techniques, cleaning the content, and leveraging powerful language models like LangChain, you can accurately summarize email threads, making it easier to manage and respond to emails effectively. Embrace the power of automation, ETL, and language models to simplify your email management and stay on top of your busy inbox!\")]"
      ]
     },
     "execution_count": 42,
     "metadata": {},
     "output_type": "execute_result"
    }
   ],
   "source": [
    "#!pip install --upgrade --quiet  docx2txt\n",
    "from langchain_community.document_loaders import Docx2txtLoader\n",
    "loader = Docx2txtLoader('AI Era.docx')\n",
    "documents = loader.load()\n",
    "documents\n"
   ]
  },
  {
   "cell_type": "code",
   "execution_count": 46,
   "id": "4997790d-bb22-4d96-a40a-8ec925d046f3",
   "metadata": {},
   "outputs": [
    {
     "name": "stdout",
     "output_type": "stream",
     "text": [
      "Collecting pathlib\n",
      "  Downloading pathlib-1.0.1-py3-none-any.whl.metadata (5.1 kB)\n",
      "Downloading pathlib-1.0.1-py3-none-any.whl (14 kB)\n",
      "Installing collected packages: pathlib\n",
      "Successfully installed pathlib-1.0.1\n"
     ]
    }
   ],
   "source": []
  },
  {
   "cell_type": "code",
   "execution_count": 49,
   "id": "e278030a-926e-45fe-817e-b47fab8e7e5f",
   "metadata": {},
   "outputs": [
    {
     "data": {
      "text/plain": [
       "[Document(metadata={'source': 'C:\\\\Users\\\\patna\\\\Downloads\\\\langchain-main\\\\langchain-main\\\\2_news_research_tool_project\\\\notebooks\\\\example_2.json', 'seq_num': 1}, page_content='{\"sport\": {\"q1\": {\"question\": \"Which one is correct team name in NBA?\", \"options\": [\"New York Bulls\", \"Los Angeles Kings\", \"Golden State Warriros\", \"Huston Rocket\"], \"answer\": \"Huston Rocket\"}}, \"maths\": {\"q1\": {\"question\": \"5 + 7 = ?\", \"options\": [\"10\", \"11\", \"12\", \"13\"], \"answer\": \"12\"}, \"q2\": {\"question\": \"12 - 8 = ?\", \"options\": [\"1\", \"2\", \"3\", \"4\"], \"answer\": \"4\"}}}')]"
      ]
     },
     "execution_count": 49,
     "metadata": {},
     "output_type": "execute_result"
    }
   ],
   "source": [
    "#!pip install -U jq\n",
    "#!pip install pathlib\n",
    "from langchain_community.document_loaders import JSONLoader\n",
    "import json\n",
    "from pathlib import Path\n",
    "file_path='example_2.json'\n",
    "data = json.loads(Path(file_path).read_text())\n",
    "loader = JSONLoader(\n",
    "         file_path=file_path,\n",
    "         jq_schema='.quiz',\n",
    "         text_content=False)\n",
    "documents = loader.load()\n",
    "documents\n"
   ]
  },
  {
   "cell_type": "code",
   "execution_count": 18,
   "id": "8ba45205",
   "metadata": {},
   "outputs": [
    {
     "name": "stdout",
     "output_type": "stream",
     "text": [
      "Requirement already satisfied: cffi in c:\\users\\patna\\anaconda3\\lib\\site-packages (1.16.0)\n",
      "Requirement already satisfied: pycparser in c:\\users\\patna\\anaconda3\\lib\\site-packages (from cffi) (2.21)\n"
     ]
    }
   ],
   "source": [
    "#!pip install python-libmagic\n",
    "!pip install cffi"
   ]
  },
  {
   "cell_type": "code",
   "execution_count": 19,
   "id": "9bfca934",
   "metadata": {},
   "outputs": [],
   "source": [
    "from langchain.document_loaders import UnstructuredURLLoader"
   ]
  },
  {
   "cell_type": "code",
   "execution_count": 20,
   "id": "93ce75de",
   "metadata": {},
   "outputs": [],
   "source": [
    "loader = UnstructuredURLLoader(\n",
    "    urls = [#\"https://www.moneycontrol.com/news/business/jubilant-pharmova-biosys-pierre-fabre-stake-12798916.html\"\n",
    "        \"https://www.moneycontrol.com/news/business/banks/hdfc-bank-re-appoints-sanmoy-chakrabarti-as-chief-risk-officer-11259771.html\",\n",
    "        \"https://www.moneycontrol.com/news/business/markets/market-corrects-post-rbi-ups-inflation-forecast-icrr-bet-on-these-top-10-rate-sensitive-stocks-ideas-11142611.html\"\n",
    "    ]\n",
    ")"
   ]
  },
  {
   "cell_type": "code",
   "execution_count": 21,
   "id": "be914bfa",
   "metadata": {},
   "outputs": [
    {
     "data": {
      "text/plain": [
       "2"
      ]
     },
     "execution_count": 21,
     "metadata": {},
     "output_type": "execute_result"
    }
   ],
   "source": [
    "data = loader.load()\n",
    "len(data)"
   ]
  },
  {
   "cell_type": "code",
   "execution_count": 1,
   "id": "4e952b20",
   "metadata": {},
   "outputs": [
    {
     "name": "stdout",
     "output_type": "stream",
     "text": [
      "Requirement already satisfied: python-magic-bin in c:\\users\\patna\\anaconda3\\lib\\site-packages (0.4.14)\n"
     ]
    },
    {
     "name": "stderr",
     "output_type": "stream",
     "text": [
      "WARNING: Error parsing dependencies of pyodbc: Invalid version: '4.0.0-unsupported'\n",
      "WARNING: Error parsing dependencies of pyzmq: Invalid version: 'cpython'\n",
      "\n",
      "[notice] A new release of pip is available: 24.1.2 -> 24.2\n",
      "[notice] To update, run: python.exe -m pip install --upgrade pip\n"
     ]
    }
   ],
   "source": [
    "#!pip uninstall python-libmagic\n",
    "#!pip uninstall python-magic \n",
    "\n",
    "# install the working one\n",
    "#!pip install python-magic-bin"
   ]
  },
  {
   "cell_type": "code",
   "execution_count": 20,
   "id": "52838711",
   "metadata": {},
   "outputs": [
    {
     "data": {
      "text/plain": [
       "'English\\n\\nHindi\\n\\nGujarati\\n\\nSpecials\\n\\nHello, Login\\n\\nHello, Login\\n\\nLog-inor Sign-Up\\n\\nMy Account\\n\\nMy Pro'"
      ]
     },
     "execution_count": 20,
     "metadata": {},
     "output_type": "execute_result"
    }
   ],
   "source": [
    "data[0].page_content[0:100]"
   ]
  },
  {
   "cell_type": "code",
   "execution_count": 21,
   "id": "8b587350",
   "metadata": {},
   "outputs": [
    {
     "data": {
      "text/plain": [
       "{'source': 'https://www.moneycontrol.com/news/business/banks/hdfc-bank-re-appoints-sanmoy-chakrabarti-as-chief-risk-officer-11259771.html'}"
      ]
     },
     "execution_count": 21,
     "metadata": {},
     "output_type": "execute_result"
    }
   ],
   "source": [
    "data[0].metadata"
   ]
  },
  {
   "cell_type": "markdown",
   "id": "df45adf4",
   "metadata": {},
   "source": [
    "## Text Splitters"
   ]
  },
  {
   "cell_type": "markdown",
   "id": "7ce2e736",
   "metadata": {},
   "source": [
    "Why do we need text splitters in first place?\n",
    "\n",
    "LLM's have token limits. Hence we need to split the text which can be large into small chunks so that each chunk size is under the token limit. There are various text splitter classes in langchain that allows us to do this."
   ]
  },
  {
   "cell_type": "code",
   "execution_count": 80,
   "id": "90431c5b",
   "metadata": {},
   "outputs": [],
   "source": [
    "# Taking some random text from wikipedia\n",
    "\n",
    "text = \"\"\"Interstellar is a 2014 epic science fiction film co-written, directed, and produced by Christopher Nolan. \n",
    "It stars Matthew McConaughey, Anne Hathaway, Jessica Chastain, Bill Irwin, Ellen Burstyn, Matt Damon, and Michael Caine. \n",
    "Set in a dystopian future where humanity is embroiled in a catastrophic blight and famine, the film follows a group of astronauts who travel through a wormhole near Saturn in search of a new home for humankind.\n",
    "\n",
    "Brothers Christopher and Jonathan Nolan wrote the screenplay, which had its origins in a script Jonathan developed in 2007 and was originally set to be directed by Steven Spielberg. \n",
    "Kip Thorne, a Caltech theoretical physicist and 2017 Nobel laureate in Physics,[4] was an executive producer, acted as a scientific consultant, and wrote a tie-in book, The Science of Interstellar. \n",
    "Cinematographer Hoyte van Hoytema shot it on 35 mm movie film in the Panavision anamorphic format and IMAX 70 mm. Principal photography began in late 2013 and took place in Alberta, Iceland, and Los Angeles. \n",
    "Interstellar uses extensive practical and miniature effects, and the company Double Negative created additional digital effects.\n",
    "\n",
    "Interstellar premiered in Los Angeles on October 26, 2014. In the United States, it was first released on film stock, expanding to venues using digital projectors. The film received generally positive reviews from critics and grossed over $677 million worldwide ($715 million after subsequent re-releases), making it the tenth-highest-grossing film of 2014. \n",
    "It has been praised by astronomers for its scientific accuracy and portrayal of theoretical astrophysics.[5][6][7] Interstellar was nominated for five awards at the 87th Academy Awards, winning Best Visual Effects, and received numerous other accolades.\"\"\""
   ]
  },
  {
   "cell_type": "markdown",
   "id": "7af9a95b",
   "metadata": {},
   "source": [
    "#### Manual approach of splitting the text into chunks"
   ]
  },
  {
   "cell_type": "code",
   "execution_count": 81,
   "id": "a51fc70e",
   "metadata": {},
   "outputs": [
    {
     "data": {
      "text/plain": [
       "'Interstellar is a 2014 epic science fiction film co-written, directed, and produced by Christopher N'"
      ]
     },
     "execution_count": 81,
     "metadata": {},
     "output_type": "execute_result"
    }
   ],
   "source": [
    "# Say LLM token limit is 100, in that case we can do simple thing such as this\n",
    "\n",
    "text[0:100]"
   ]
  },
  {
   "cell_type": "code",
   "execution_count": 82,
   "id": "2adae99a",
   "metadata": {},
   "outputs": [
    {
     "data": {
      "text/plain": [
       "264"
      ]
     },
     "execution_count": 82,
     "metadata": {},
     "output_type": "execute_result"
    }
   ],
   "source": [
    "# Well but we want complete words and want to do this for entire text, may be we can use Python's split funciton\n",
    "\n",
    "words = text.split(\" \")\n",
    "len(words)"
   ]
  },
  {
   "cell_type": "code",
   "execution_count": 83,
   "id": "56ec5613",
   "metadata": {},
   "outputs": [],
   "source": [
    "chunks = []\n",
    "\n",
    "s = \"\"\n",
    "for word in words:\n",
    "    s += word + \" \"\n",
    "    if len(s)>200:\n",
    "        chunks.append(s)\n",
    "        s = \"\"\n",
    "        \n",
    "chunks.append(s)"
   ]
  },
  {
   "cell_type": "code",
   "execution_count": 84,
   "id": "95d902bd",
   "metadata": {
    "scrolled": true
   },
   "outputs": [
    {
     "data": {
      "text/plain": [
       "['Interstellar is a 2014 epic science fiction film co-written, directed, and produced by Christopher Nolan. \\nIt stars Matthew McConaughey, Anne Hathaway, Jessica Chastain, Bill Irwin, Ellen Burstyn, Matt ',\n",
       " 'Damon, and Michael Caine. \\nSet in a dystopian future where humanity is embroiled in a catastrophic blight and famine, the film follows a group of astronauts who travel through a wormhole near Saturn in ']"
      ]
     },
     "execution_count": 84,
     "metadata": {},
     "output_type": "execute_result"
    }
   ],
   "source": [
    "chunks[:2]"
   ]
  },
  {
   "cell_type": "markdown",
   "id": "ff06ebc4",
   "metadata": {},
   "source": [
    "**Splitting data into chunks can be done in native python but it is a tidious process. Also if necessary, you may need to experiment with various delimiters in an iterative manner to ensure that each chunk does not exceed the token length limit of the respective LLM.**\n",
    "\n",
    "**Langchain provides a better way through text splitter classes.**"
   ]
  },
  {
   "cell_type": "markdown",
   "id": "f64b2909",
   "metadata": {},
   "source": [
    "#### Using Text Splitter Classes from Langchain\n",
    "\n",
    "#### CharacterTextSplitter"
   ]
  },
  {
   "cell_type": "code",
   "execution_count": 85,
   "id": "9505bedd",
   "metadata": {},
   "outputs": [],
   "source": [
    "from langchain.text_splitter import CharacterTextSplitter\n",
    "\n",
    "splitter = CharacterTextSplitter(\n",
    "    separator = \"\\n\",\n",
    "    chunk_size=200,\n",
    "    chunk_overlap=0\n",
    ")"
   ]
  },
  {
   "cell_type": "code",
   "execution_count": 86,
   "id": "4d86bc63",
   "metadata": {},
   "outputs": [
    {
     "name": "stderr",
     "output_type": "stream",
     "text": [
      "Created a chunk of size 210, which is longer than the specified 200\n",
      "Created a chunk of size 208, which is longer than the specified 200\n",
      "Created a chunk of size 358, which is longer than the specified 200\n"
     ]
    },
    {
     "data": {
      "text/plain": [
       "9"
      ]
     },
     "execution_count": 86,
     "metadata": {},
     "output_type": "execute_result"
    }
   ],
   "source": [
    "chunks = splitter.split_text(text)\n",
    "len(chunks)"
   ]
  },
  {
   "cell_type": "code",
   "execution_count": 87,
   "id": "e027b9de",
   "metadata": {},
   "outputs": [
    {
     "name": "stdout",
     "output_type": "stream",
     "text": [
      "105\n",
      "120\n",
      "210\n",
      "181\n",
      "197\n",
      "207\n",
      "128\n",
      "357\n",
      "253\n"
     ]
    }
   ],
   "source": [
    "for chunk in chunks:\n",
    "    print(len(chunk))"
   ]
  },
  {
   "cell_type": "markdown",
   "id": "dcc73da3",
   "metadata": {},
   "source": [
    "As you can see, all though we gave 200 as a chunk size since the split was based on \\n, it ended up creating chunks that are bigger than size 200. "
   ]
  },
  {
   "cell_type": "markdown",
   "id": "f86f3a10",
   "metadata": {},
   "source": [
    "Another class from Langchain can be used to recursively split the text based on a list of separators. This class is RecursiveTextSplitter. Let's see how it works"
   ]
  },
  {
   "cell_type": "markdown",
   "id": "00a61cf1",
   "metadata": {},
   "source": [
    "#### RecursiveTextSplitter"
   ]
  },
  {
   "cell_type": "code",
   "execution_count": 88,
   "id": "dacf5e8b",
   "metadata": {},
   "outputs": [
    {
     "data": {
      "text/plain": [
       "'Interstellar is a 2014 epic science fiction film co-written, directed, and produced by Christopher Nolan. \\nIt stars Matthew McConaughey, Anne Hathaway, Jessica Chastain, Bill Irwin, Ellen Burstyn, Matt Damon, and Michael Caine. \\nSet in a dystopian future where humanity is embroiled in a catastrophic blight and famine, the film follows a group of astronauts who travel through a wormhole near Saturn in search of a new home for humankind.\\n\\nBrothers Christopher and Jonathan Nolan wrote the screenplay, which had its origins in a script Jonathan developed in 2007 and was originally set to be directed by Steven Spielberg. \\nKip Thorne, a Caltech theoretical physicist and 2017 Nobel laureate in Physics,[4] was an executive producer, acted as a scientific consultant, and wrote a tie-in book, The Science of Interstellar. \\nCinematographer Hoyte van Hoytema shot it on 35 mm movie film in the Panavision anamorphic format and IMAX 70 mm. Principal photography began in late 2013 and took place in Alberta, Iceland, and Los Angeles. \\nInterstellar uses extensive practical and miniature effects, and the company Double Negative created additional digital effects.\\n\\nInterstellar premiered in Los Angeles on October 26, 2014. In the United States, it was first released on film stock, expanding to venues using digital projectors. The film received generally positive reviews from critics and grossed over $677 million worldwide ($715 million after subsequent re-releases), making it the tenth-highest-grossing film of 2014. \\nIt has been praised by astronomers for its scientific accuracy and portrayal of theoretical astrophysics.[5][6][7] Interstellar was nominated for five awards at the 87th Academy Awards, winning Best Visual Effects, and received numerous other accolades.'"
      ]
     },
     "execution_count": 88,
     "metadata": {},
     "output_type": "execute_result"
    }
   ],
   "source": [
    "text"
   ]
  },
  {
   "cell_type": "code",
   "execution_count": 117,
   "id": "848eae34",
   "metadata": {},
   "outputs": [],
   "source": [
    "from langchain.text_splitter import RecursiveCharacterTextSplitter\n",
    "\n",
    "r_splitter = RecursiveCharacterTextSplitter(\n",
    "    separators = [\"\\n\\n\", \"\\n\", \" \"],  # List of separators based on requirement (defaults to [\"\\n\\n\", \"\\n\", \" \"])\n",
    "    chunk_size = 200,  # size of each chunk created\n",
    "    chunk_overlap  = 0,  # size of  overlap between chunks in order to maintain the context\n",
    "    length_function = len  # Function to calculate size, currently we are using \"len\" which denotes length of string however you can pass any token counter)\n",
    ")"
   ]
  },
  {
   "cell_type": "code",
   "execution_count": 118,
   "id": "1151c51d",
   "metadata": {},
   "outputs": [
    {
     "name": "stdout",
     "output_type": "stream",
     "text": [
      "105\n",
      "120\n",
      "199\n",
      "10\n",
      "181\n",
      "197\n",
      "198\n",
      "8\n",
      "128\n",
      "191\n",
      "165\n",
      "198\n",
      "54\n"
     ]
    }
   ],
   "source": [
    "chunks = r_splitter.split_text(text)\n",
    "\n",
    "for chunk in chunks:\n",
    "    print(len(chunk))"
   ]
  },
  {
   "cell_type": "markdown",
   "id": "32135f4d",
   "metadata": {},
   "source": [
    "**Let's understand how exactly it formed these chunks**"
   ]
  },
  {
   "cell_type": "code",
   "execution_count": 109,
   "id": "57ef6974",
   "metadata": {},
   "outputs": [
    {
     "data": {
      "text/plain": [
       "'Interstellar is a 2014 epic science fiction film co-written, directed, and produced by Christopher Nolan. \\nIt stars Matthew McConaughey, Anne Hathaway, Jessica Chastain, Bill Irwin, Ellen Burstyn, Matt Damon, and Michael Caine. \\nSet in a dystopian future where humanity is embroiled in a catastrophic blight and famine, the film follows a group of astronauts who travel through a wormhole near Saturn in search of a new home for humankind.'"
      ]
     },
     "execution_count": 109,
     "metadata": {},
     "output_type": "execute_result"
    }
   ],
   "source": [
    "first_split = text.split(\"\\n\\n\")[0]\n",
    "first_split"
   ]
  },
  {
   "cell_type": "code",
   "execution_count": 110,
   "id": "2bc7719f",
   "metadata": {},
   "outputs": [
    {
     "data": {
      "text/plain": [
       "439"
      ]
     },
     "execution_count": 110,
     "metadata": {},
     "output_type": "execute_result"
    }
   ],
   "source": [
    "len(first_split)"
   ]
  },
  {
   "cell_type": "markdown",
   "id": "e1018d24",
   "metadata": {},
   "source": [
    "Recursive text splitter uses a list of separators, i.e.  separators = [\"\\n\\n\", \"\\n\", \".\"]\n",
    "\n",
    "So now it will first split using \\n\\n and then if the resulting chunk size is greater than the chunk_size parameter which is 200\n",
    "in our case, then it will use the next separator which is \\n"
   ]
  },
  {
   "cell_type": "code",
   "execution_count": 119,
   "id": "739cef71",
   "metadata": {},
   "outputs": [
    {
     "data": {
      "text/plain": [
       "['Interstellar is a 2014 epic science fiction film co-written, directed, and produced by Christopher Nolan. ',\n",
       " 'It stars Matthew McConaughey, Anne Hathaway, Jessica Chastain, Bill Irwin, Ellen Burstyn, Matt Damon, and Michael Caine. ',\n",
       " 'Set in a dystopian future where humanity is embroiled in a catastrophic blight and famine, the film follows a group of astronauts who travel through a wormhole near Saturn in search of a new home for humankind.']"
      ]
     },
     "execution_count": 119,
     "metadata": {},
     "output_type": "execute_result"
    }
   ],
   "source": [
    "second_split = first_split.split(\"\\n\")\n",
    "second_split"
   ]
  },
  {
   "cell_type": "code",
   "execution_count": 120,
   "id": "903f5921",
   "metadata": {},
   "outputs": [
    {
     "name": "stdout",
     "output_type": "stream",
     "text": [
      "106\n",
      "121\n",
      "210\n"
     ]
    }
   ],
   "source": [
    "for split in second_split:\n",
    "    print(len(split))"
   ]
  },
  {
   "cell_type": "markdown",
   "id": "ed1e69a7",
   "metadata": {},
   "source": [
    "Third split exceeds chunk size 200. Now it will further try to split that using the third separator which is ' ' (space)"
   ]
  },
  {
   "cell_type": "code",
   "execution_count": 115,
   "id": "69f4da9d",
   "metadata": {},
   "outputs": [
    {
     "data": {
      "text/plain": [
       "'Set in a dystopian future where humanity is embroiled in a catastrophic blight and famine, the film follows a group of astronauts who travel through a wormhole near Saturn in search of a new home for humankind.'"
      ]
     },
     "execution_count": 115,
     "metadata": {},
     "output_type": "execute_result"
    }
   ],
   "source": [
    "second_split[2]"
   ]
  },
  {
   "cell_type": "markdown",
   "id": "7fda659a",
   "metadata": {},
   "source": [
    "When you split this using space (i.e. second_split[2].split(\" \")), it will separate out each word and then it will merge those \n",
    "chunks such that their size is close to 200"
   ]
  },
  {
   "cell_type": "markdown",
   "id": "6f538e50",
   "metadata": {},
   "source": [
    "<img src=\"chunk_size.jpg\"/>"
   ]
  }
 ],
 "metadata": {
  "kernelspec": {
   "display_name": "Python 3 (ipykernel)",
   "language": "python",
   "name": "python3"
  },
  "language_info": {
   "codemirror_mode": {
    "name": "ipython",
    "version": 3
   },
   "file_extension": ".py",
   "mimetype": "text/x-python",
   "name": "python",
   "nbconvert_exporter": "python",
   "pygments_lexer": "ipython3",
   "version": "3.12.4"
  }
 },
 "nbformat": 4,
 "nbformat_minor": 5
}
